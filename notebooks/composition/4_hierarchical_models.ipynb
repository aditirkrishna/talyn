{
 "cells": [
  {
   "cell_type": "markdown",
   "metadata": {},
   "source": [
    "# Hierarchical Models in Talyn\n",
    "\n",
    "This notebook demonstrates how to build hierarchical (Bayesian) models in Talyn, including priors, posteriors, and uncertainty visualization.\n"
   ]
  },
  {
   "cell_type": "markdown",
   "metadata": {},
   "source": [
    "## 1. Prior Over Mean: $\mu \sim N(0,1)$\n",
    "\n",
    "We define a prior over the mean of a Normal distribution.\n"
   ]
  },
  {
   "cell_type": "code",
   "metadata": {},
   "execution_count": null,
   "outputs": [],
   "source": [
    "from talyn.distributions import Normal\n",
    "import numpy as np\n",
    "import matplotlib.pyplot as plt\n",
    "\n",
    "mu_samples = [Normal(0, 1).sample() for _ in range(1000)]\n",
    "plt.hist(mu_samples, bins=30, density=True, alpha=0.7, color='skyblue')\n",
    "plt.title('Prior Samples for μ ~ N(0,1)', fontsize=14)\n",
    "plt.xlabel('μ', fontsize=12)\n",
    "plt.ylabel('Density', fontsize=12)\n",
    "plt.show()\n"
   ]
  },
  {
   "cell_type": "markdown",
   "metadata": {},
   "source": [
    "## 2. Hierarchical Model: $x \sim N(\mu, 1)$\n",
    "\n",
    "We now sample $x$ given $\mu$.\n"
   ]
  },
  {
   "cell_type": "code",
   "metadata": {},
   "execution_count": null,
   "outputs": [],
   "source": [
    "def hierarchical_sample():\n",
    "    mu = Normal(0, 1).sample()\n",
    "    x = Normal(mu, 1).sample()\n",
    "    return mu, x\n",
    "\n",
    "samples = [hierarchical_sample() for _ in range(1000)]\n",
    "mus, xs = zip(*samples)\n",
    "plt.scatter(mus, xs, alpha=0.5, s=10)\n",
    "plt.title('Hierarchical Samples: μ vs x', fontsize=14)\n",
    "plt.xlabel('μ', fontsize=12)\n",
    "plt.ylabel('x', fontsize=12)\n",
    "plt.show()\n"
   ]
  },
  {
   "cell_type": "markdown",
   "metadata": {},
   "source": [
    "## 3. Posterior Inference: Visualizing Uncertainty Over $\mu$\n",
    "\n",
    "Suppose we observe $x=1.5$. We can visualize the posterior over $\mu$ by simulating many $\mu$ values that could have generated $x=1.5$.\n"
   ]
  },
  {
   "cell_type": "code",
   "metadata": {},
   "execution_count": null,
   "outputs": [],
   "source": [
    "observed_x = 1.5\n",
    "posterior_mu = []\n",
    "for _ in range(1000):\n",
    "    mu = Normal(0, 1).sample()\n",
    "    x = Normal(mu, 1).sample()\n",
    "    if abs(x - observed_x) < 0.1:  # ABC-style\n",
    "        posterior_mu.append(mu)\n",
    "plt.hist(posterior_mu, bins=30, density=True, alpha=0.7, color='orange')\n",
    "plt.title('Posterior over μ given x ≈ 1.5', fontsize=14)\n",
    "plt.xlabel('μ', fontsize=12)\n",
    "plt.ylabel('Density', fontsize=12)\n",
    "plt.show()\n"
   ]
  },
  {
   "cell_type": "markdown",
   "metadata": {},
   "source": [
    "## 4. Sample Traces and Structural Implications\n",
    "\n",
    "Each simulation produces a trace: a record of all random choices. Hierarchical models create traces with nested dependencies.\n"
   ]
  },
  {
   "cell_type": "code",
   "metadata": {},
   "execution_count": null,
   "outputs": [],
   "source": [
    "from talyn.ppl.tiny_ppl import Trace\n",
    "trace = Trace()\n",
    "mu = Normal(0, 1).sample(trace=trace)\n",
    "x = Normal(mu, 1).sample(trace=trace)\n",
    "print('Trace:', trace)\n"
   ]
  },
  {
   "cell_type": "markdown",
   "metadata": {},
   "source": [
    "---\n",
    "\n",
    "This notebook demonstrated hierarchical modeling in Talyn. Next, we'll explore factor graphs.\n"
   ]
  }
 ],
 "metadata": {
  "kernelspec": {
   "display_name": "Python 3",
   "language": "python",
   "name": "python3"
  },
  "language_info": {
   "name": "python",
   "version": "3.8"
  }
 },
 "nbformat": 4,
 "nbformat_minor": 5
}
