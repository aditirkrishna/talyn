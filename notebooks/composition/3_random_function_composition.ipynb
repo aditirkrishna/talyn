{
 "cells": [
  {
   "cell_type": "markdown",
   "metadata": {},
   "source": [
    "# Random Function Composition in Talyn\n",
    "\n",
    "This notebook demonstrates how to compose complex random functions in Talyn, including multi-level composition, chaining, and visualization.\n"
   ]
  },
  {
   "cell_type": "markdown",
   "metadata": {},
   "source": [
    "## 1. Simple Random Function: $f(x) = x + \epsilon$\n",
    "\n",
    "Let's define a function where $\epsilon \sim N(0,1)$.\n"
   ]
  },
  {
   "cell_type": "code",
   "metadata": {},
   "execution_count": null,
   "outputs": [],
   "source": [
    "from talyn.distributions import Normal\n",
    "import numpy as np\n",
    "import matplotlib.pyplot as plt\n",
    "\n",
    "def f(x):\n",
    "    return x + Normal(0, 1).sample()\n",
    "\n",
    "xs = np.linspace(-3, 3, 100)\n",
    "ys = [f(x) for x in xs]\n",
    "plt.scatter(xs, ys, alpha=0.5, s=10)\n",
    "plt.title('f(x) = x + Normal(0,1)', fontsize=14)\n",
    "plt.xlabel('x', fontsize=12)\n",
    "plt.ylabel('f(x)', fontsize=12)\n",
    "plt.show()\n"
   ]
  },
  {
   "cell_type": "markdown",
   "metadata": {},
   "source": [
    "## 2. Nonlinear Random Function: $f(x) = \sin(x) + N(0,1)$\n"
   ]
  },
  {
   "cell_type": "code",
   "metadata": {},
   "execution_count": null,
   "outputs": [],
   "source": [
    "def g(x):\n",
    "    return np.sin(x) + Normal(0, 1).sample()\n",
    "ys = [g(x) for x in xs]\n",
    "plt.scatter(xs, ys, alpha=0.5, s=10, color='orange')\n",
    "plt.title('g(x) = sin(x) + Normal(0,1)', fontsize=14)\n",
    "plt.xlabel('x', fontsize=12)\n",
    "plt.ylabel('g(x)', fontsize=12)\n",
    "plt.show()\n"
   ]
  },
  {
   "cell_type": "markdown",
   "metadata": {},
   "source": [
    "## 3. Composition Over Multiple Levels\n",
    "\n",
    "Let's compose random functions over 3 levels.\n"
   ]
  },
  {
   "cell_type": "code",
   "metadata": {},
   "execution_count": null,
   "outputs": [],
   "source": [
    "def h(x):\n",
    "    y = f(x)\n",
    "    z = g(y)\n",
    "    return z\n",
    "ys = [h(x) for x in xs]\n",
    "plt.scatter(xs, ys, alpha=0.5, s=10, color='purple')\n",
    "plt.title('h(x) = g(f(x))', fontsize=14)\n",
    "plt.xlabel('x', fontsize=12)\n",
    "plt.ylabel('h(x)', fontsize=12)\n",
    "plt.show()\n"
   ]
  },
  {
   "cell_type": "markdown",
   "metadata": {},
   "source": [
    "## 4. Chaining with map, apply, bind\n",
    "\n",
    "Talyn supports functional composition using map/apply/bind patterns.\n    (For demonstration, we use Python's built-in map.)\n"
   ]
  },
  {
   "cell_type": "code",
   "metadata": {},
   "execution_count": null,
   "outputs": [],
   "source": [
    "results = list(map(f, xs))\n",
    "plt.hist(results, bins=30, alpha=0.7, color='teal')\n",
    "plt.title('Distribution of f(x) over xs', fontsize=14)\n",
    "plt.xlabel('f(x)', fontsize=12)\n",
    "plt.ylabel('Count', fontsize=12)\n",
    "plt.show()\n"
   ]
  },
  {
   "cell_type": "markdown",
   "metadata": {},
   "source": [
    "## 5. Functional Purity and Composability\n",
    "\n",
    "Random functions in Talyn are pure: their output depends only on inputs and random draws. This enables composability and modularity.\n"
   ]
  },
  {
   "cell_type": "markdown",
   "metadata": {},
   "source": [
    "---\n",
    "\n",
    "This notebook demonstrated random function composition in Talyn. Next, we'll build hierarchical models.\n"
   ]
  }
 ],
 "metadata": {
  "kernelspec": {
   "display_name": "Python 3",
   "language": "python",
   "name": "python3"
  },
  "language_info": {
   "name": "python",
   "version": "3.8"
  }
 },
 "nbformat": 4,
 "nbformat_minor": 5
}
