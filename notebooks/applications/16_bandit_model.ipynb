{
 "cells": [
  {
   "cell_type": "markdown",
   "metadata": {},
   "source": [
    "# Multi-Armed Bandit Model in Talyn\n",
    "\n",
    "This notebook demonstrates how to model and simulate multi-armed bandit environments in Talyn, including agent strategies and regret tracking.\n"
   ]
  },
  {
   "cell_type": "markdown",
   "metadata": {},
   "source": [
    "## 1. Define Reward Distributions for Each Arm\n"
   ]
  },
  {
   "cell_type": "code",
   "metadata": {},
   "execution_count": null,
   "outputs": [],
   "source": [
    "import numpy as np\n",
    "n_arms = 3\n",
    "true_means = [0.2, 0.5, 0.8]\n",
    "def pull(arm):\n",
    "    return np.random.binomial(1, true_means[arm])\n",
    "print('Sample rewards:', [pull(a) for a in range(n_arms)])\n"
   ]
  },
  {
   "cell_type": "markdown",
   "metadata": {},
   "source": [
    "## 2. Simulate Agent Strategies (ε-Greedy, Thompson Sampling)\n"
   ]
  },
  {
   "cell_type": "code",
   "metadata": {},
   "execution_count": null,
   "outputs": [],
   "source": [
    "def epsilon_greedy(eps=0.1, steps=200):\n",
    "    counts = np.zeros(n_arms)\n",
    "    values = np.zeros(n_arms)\n",
    "    rewards = []\n",
    "    for t in range(steps):\n",
    "        if np.random.rand() < eps:\n",
    "            arm = np.random.choice(n_arms)\n",
    "        else:\n",
    "            arm = np.argmax(values)\n",
    "        reward = pull(arm)\n",
    "        counts[arm] += 1\n",
    "        values[arm] += (reward - values[arm]) / counts[arm]\n",
    "        rewards.append(reward)\n",
    "    return rewards, values\n",
    "rewards, values = epsilon_greedy()\n",
    "print('Final estimated values:', values)\n"
   ]
  },
  {
   "cell_type": "code",
   "metadata": {},
   "execution_count": null,
   "outputs": [],
   "source": [
    "def thompson_sampling(steps=200):\n",
    "    alpha = np.ones(n_arms)\n",
    "    beta = np.ones(n_arms)\n",
    "    rewards = []\n",
    "    for t in range(steps):\n",
    "        samples = np.random.beta(alpha, beta)\n",
    "        arm = np.argmax(samples)\n",
    "        reward = pull(arm)\n",
    "        alpha[arm] += reward\n",
    "        beta[arm] += 1 - reward\n",
    "        rewards.append(reward)\n",
    "    return rewards, alpha, beta\n",
    "rewards_ts, alpha, beta = thompson_sampling()\n",
    "print('Final alpha:', alpha)\n",
    "print('Final beta:', beta)\n"
   ]
  },
  {
   "cell_type": "markdown",
   "metadata": {},
   "source": [
    "## 3. Track Regret Over Time\n"
   ]
  },
  {
   "cell_type": "code",
   "metadata": {},
   "execution_count": null,
   "outputs": [],
   "source": [
    "optimal = max(true_means)\n",
    "regret = np.cumsum([optimal - r for r in rewards])\n",
    "import matplotlib.pyplot as plt\n",
    "plt.plot(regret, label='ε-Greedy')\n",
    "regret_ts = np.cumsum([optimal - r for r in rewards_ts])\n",
    "plt.plot(regret_ts, label='Thompson Sampling')\n",
    "plt.title('Cumulative Regret', fontsize=14)\n",
    "plt.xlabel('Step', fontsize=12)\n",
    "plt.ylabel('Regret', fontsize=12)\n",
    "plt.legend()\n",
    "plt.show()\n"
   ]
  },
  {
   "cell_type": "markdown",
   "metadata": {},
   "source": [
    "## 4. Visualize Posterior Belief Over Arms (Thompson Sampling)\n"
   ]
  },
  {
   "cell_type": "code",
   "metadata": {},
   "execution_count": null,
   "outputs": [],
   "source": [
    "x = np.linspace(0, 1, 100)\n",
    "for i in range(n_arms):\n",
    "    plt.plot(x, np.random.beta(alpha[i], beta[i], 100), label=f'Arm {i}')\n",
    "plt.title('Posterior Samples for Each Arm', fontsize=14)\n",
    "plt.xlabel('Mean Reward', fontsize=12)\n",
    "plt.ylabel('Density', fontsize=12)\n",
    "plt.legend()\n",
    "plt.show()\n"
   ]
  },
  {
   "cell_type": "markdown",
   "metadata": {},
   "source": [
    "---\n",
    "\n",
    "This notebook demonstrated bandit models in Talyn. Next, we'll explore causal inference.\n"
   ]
  }
 ],
 "metadata": {
  "kernelspec": {
   "display_name": "Python 3",
   "language": "python",
   "name": "python3"
  },
  "language_info": {
   "name": "python",
   "version": "3.8"
  }
 },
 "nbformat": 4,
 "nbformat_minor": 5
}
