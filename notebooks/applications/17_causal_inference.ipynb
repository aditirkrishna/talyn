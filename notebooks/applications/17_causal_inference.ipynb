{
 "cells": [
  {
   "cell_type": "markdown",
   "metadata": {},
   "source": [
    "# Causal Inference in Talyn\n",
    "\n",
    "This notebook demonstrates how to simulate interventions in graphical models and estimate counterfactual outcomes in Talyn.\n"
   ]
  },
  {
   "cell_type": "markdown",
   "metadata": {},
   "source": [
    "## 1. Define Causal Model\n",
    "\n",
    "Suppose $X \rightarrow Y$ with $X \sim Bernoulli(0.5)$, $Y \sim Bernoulli(0.8)$ if $X=1$, else $Bernoulli(0.2)$.\n"
   ]
  },
  {
   "cell_type": "code",
   "metadata": {},
   "execution_count": null,
   "outputs": [],
   "source": [
    "import numpy as np\n",
    "def sample_causal():\n",
    "    X = np.random.binomial(1, 0.5)\n",
    "    pY = 0.8 if X == 1 else 0.2\n",
    "    Y = np.random.binomial(1, pY)\n",
    "    return X, Y\n",
    "samples = [sample_causal() for _ in range(1000)]\n",
    "X_vals, Y_vals = zip(*samples)\n",
    "print('P(Y=1|X=1):', np.mean([y for x, y in samples if x==1]))\n",
    "print('P(Y=1|X=0):', np.mean([y for x, y in samples if x==0]))\n"
   ]
  },
  {
   "cell_type": "markdown",
   "metadata": {},
   "source": [
    "## 2. Simulate do(x=1) vs observe(x=1)\n",
    "\n",
    "- **do(x=1)**: Intervene and set $X=1$ for all samples.\n    - **observe(x=1)**: Condition on $X=1$ in observed data.\n"
   ]
  },
  {
   "cell_type": "code",
   "metadata": {},
   "execution_count": null,
   "outputs": [],
   "source": [
    "# do(x=1):\n",
    "Y_do = [np.random.binomial(1, 0.8) for _ in range(1000)]\n",
    "print('P(Y=1 | do(X=1)):', np.mean(Y_do))\n",
    "# observe(x=1):\n",
    "Y_obs = [y for x, y in samples if x==1]\n",
    "print('P(Y=1 | X=1):', np.mean(Y_obs))\n"
   ]
  },
  {
   "cell_type": "markdown",
   "metadata": {},
   "source": [
    "## 3. Use do-Calculus Rules\n",
    "\n",
    "Talyn supports do-calculus for more complex models. (For demonstration, we show the difference between intervention and observation.)\n"
   ]
  },
  {
   "cell_type": "markdown",
   "metadata": {},
   "source": [
    "## 4. Estimate Counterfactual Outcomes\n",
    "\n",
    "Suppose we observe $X=0, Y=1$. What would $Y$ have been if $X=1$?\n    (For demonstration, we simulate the counterfactual.)\n"
   ]
  },
  {
   "cell_type": "code",
   "metadata": {},
   "execution_count": null,
   "outputs": [],
   "source": [
    "# Counterfactual: set X=1, sample Y\n",
    "Y_cf = [np.random.binomial(1, 0.8) for _ in range(1000)]\n",
    "print('Counterfactual P(Y=1 | X=1):', np.mean(Y_cf))\n"
   ]
  },
  {
   "cell_type": "markdown",
   "metadata": {},
   "source": [
    "---\n",
    "\n",
    "This notebook demonstrated causal inference in Talyn. Next, we'll explore probabilistic programs.\n"
   ]
  }
 ],
 "metadata": {
  "kernelspec": {
   "display_name": "Python 3",
   "language": "python",
   "name": "python3"
  },
  "language_info": {
   "name": "python",
   "version": "3.8"
  }
 },
 "nbformat": 4,
 "nbformat_minor": 5
}
