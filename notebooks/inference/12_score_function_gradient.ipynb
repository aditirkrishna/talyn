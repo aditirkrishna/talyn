{
 "cells": [
  {
   "cell_type": "markdown",
   "metadata": {},
   "source": [
    "# Score Function Gradients in Talyn\n",
    "\n",
    "This notebook demonstrates score-based gradients (REINFORCE) for learning in Talyn.\n"
   ]
  },
  {
   "cell_type": "markdown",
   "metadata": {},
   "source": [
    "## 1. Derive Score Estimator from Log-Likelihood\n",
    "\n",
    "The score function estimator for $\nabla_\theta E_{p_\theta(x)}[f(x)]$ is:\n",
    "\n",
    "$E_{p_\theta(x)}[f(x) \nabla_\theta \log p_\theta(x)]$\n"
   ]
  },
  {
   "cell_type": "code",
   "metadata": {},
   "execution_count": null,
   "outputs": [],
   "source": [
    "import numpy as np\n",
    "from scipy.stats import norm\n",
    "theta = 0.0\n",
    "N = 1000\n",
    "samples = np.random.normal(theta, 1, N)\n",
    "f_x = samples**2\n",
    "score = (samples - theta)\n",
    "grad_estimate = np.mean(f_x * score)\n",
    "print('Score function gradient estimate:', grad_estimate)\n"
   ]
  },
  {
   "cell_type": "markdown",
   "metadata": {},
   "source": [
    "## 2. Apply REINFORCE-Style Estimation\n",
    "\n",
    "REINFORCE uses the score function for policy gradients and learning.\n"
   ]
  },
  {
   "cell_type": "code",
   "metadata": {},
   "execution_count": null,
   "outputs": [],
   "source": [
    "# Simulate noisy gradients and average\n",
    "grads = []\n",
    "for _ in range(100):\n",
    "    samples = np.random.normal(theta, 1, N)\n",
    "    f_x = samples**2\n",
    "    score = (samples - theta)\n",
    "    grads.append(np.mean(f_x * score))\n",
    "print('Mean gradient:', np.mean(grads))\n    ",
    "print('Std of gradient:', np.std(grads))\n"
   ]
  },
  {
   "cell_type": "markdown",
   "metadata": {},
   "source": [
    "## 3. Discuss Variance and Baseline Correction\n",
    "\n",
    "Variance can be reduced by subtracting a baseline $b$ from $f(x)$:\n",
    "$E[(f(x)-b)\nabla_\theta \log p_\theta(x)]$\n"
   ]
  },
  {
   "cell_type": "code",
   "metadata": {},
   "execution_count": null,
   "outputs": [],
   "source": [
    "baseline = np.mean(f_x)\n",
    "grad_with_baseline = np.mean((f_x - baseline) * score)\n",
    "print('Gradient with baseline correction:', grad_with_baseline)\n"
   ]
  },
  {
   "cell_type": "markdown",
   "metadata": {},
   "source": [
    "---\n",
    "\n",
    "This notebook introduced score function gradients in Talyn. Next, we'll explore trace visualization.\n"
   ]
  }
 ],
 "metadata": {
  "kernelspec": {
   "display_name": "Python 3",
   "language": "python",
   "name": "python3"
  },
  "language_info": {
   "name": "python",
   "version": "3.8"
  }
 },
 "nbformat": 4,
 "nbformat_minor": 5
}
