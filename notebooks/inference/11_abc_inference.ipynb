{
 "cells": [
  {
   "cell_type": "markdown",
   "metadata": {},
   "source": [
    "# Approximate Bayesian Computation (ABC) in Talyn\n",
    "\n",
    "This notebook demonstrates Approximate Bayesian Computation (ABC) using rejection in Talyn.\n"
   ]
  },
  {
   "cell_type": "markdown",
   "metadata": {},
   "source": [
    "## 1. Simulate Forward from Prior\n",
    "\n",
    "Suppose our model is $x \sim N(\mu, 1)$ with prior $\mu \sim N(0,1)$.\n    We observe $x_{obs} = 2.0$.\n"
   ]
  },
  {
   "cell_type": "code",
   "metadata": {},
   "execution_count": null,
   "outputs": [],
   "source": [
    "import numpy as np\n",
    "N = 10000\n",
    "x_obs = 2.0\n",
    "mu_prior = np.random.normal(0, 1, N)\n",
    "x_sim = mu_prior + np.random.normal(0, 1, N)\n"
   ]
  },
  {
   "cell_type": "markdown",
   "metadata": {},
   "source": [
    "## 2. Accept if Simulated Data Matches Observed\n"
   ]
  },
  {
   "cell_type": "code",
   "metadata": {},
   "execution_count": null,
   "outputs": [],
   "source": [
    "epsilon = 0.1\n",
    "accepted = np.abs(x_sim - x_obs) < epsilon\n",
    "posterior_mu = mu_prior[accepted]\n",
    "print('Number of accepted samples:', len(posterior_mu))\n"
   ]
  },
  {
   "cell_type": "markdown",
   "metadata": {},
   "source": [
    "## 3. Vary $\epsilon$ (Tolerance Threshold)\n",
    "\n",
    "Let's see how the posterior changes as we vary $\epsilon$.\n"
   ]
  },
  {
   "cell_type": "code",
   "metadata": {},
   "execution_count": null,
   "outputs": [],
   "source": [
    "import matplotlib.pyplot as plt\n",
    "for eps in [0.05, 0.1, 0.2, 0.5]:\n",
    "    accepted = np.abs(x_sim - x_obs) < eps\n",
    "    plt.hist(mu_prior[accepted], bins=30, density=True, alpha=0.5, label=f'ε={eps}')\n",
    "plt.title('ABC Posterior for Different ε', fontsize=14)\n",
    "plt.xlabel('μ', fontsize=12)\n",
    "plt.ylabel('Density', fontsize=12)\n",
    "plt.legend()\n",
    "plt.show()\n"
   ]
  },
  {
   "cell_type": "markdown",
   "metadata": {},
   "source": [
    "## 4. Show Trade-off Between Bias and Variance\n",
    "\n",
    "- Small $\epsilon$: low bias, high variance (few samples).\n",
    "- Large $\epsilon$: high bias, low variance (many samples).\n"
   ]
  },
  {
   "cell_type": "markdown",
   "metadata": {},
   "source": [
    "---\n",
    "\n",
    "This notebook introduced ABC inference in Talyn. Next, we'll explore score function gradients.\n"
   ]
  }
 ],
 "metadata": {
  "kernelspec": {
   "display_name": "Python 3",
   "language": "python",
   "name": "python3"
  },
  "language_info": {
   "name": "python",
   "version": "3.8"
  }
 },
 "nbformat": 4,
 "nbformat_minor": 5
}
