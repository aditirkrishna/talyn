{
 "cells": [
  {
   "cell_type": "markdown",
   "metadata": {},
   "source": [
    "# Particle Filter Test Suite\n",
    "\n",
    "This notebook evaluates the statistical performance of Talyn's particle filters, including effective sample size, degeneracy, convergence, and resampling variability.\n"
   ]
  },
  {
   "cell_type": "markdown",
   "metadata": {},
   "source": [
    "## 1. Track Effective Sample Size Over Time\n"
   ]
  },
  {
   "cell_type": "code",
   "metadata": {},
   "execution_count": null,
   "outputs": [],
   "source": [
    "import numpy as np\n",
    "N = 100\n",
    "T = 20\n",
    "particles = [0.0]*N\n",
    "weights = np.ones(N)/N\n",
    "ess_history = []\n",
    "for t in range(T):\n",
    "    particles = [p + np.random.normal(0,1) for p in particles]\n",
    "    obs = np.random.normal(0,1)\n",
    "    weights = np.exp(-0.5*(np.array(particles)-obs)**2)\n",
    "    weights /= np.sum(weights)\n",
    "    ess = 1.0 / np.sum(weights**2)\n",
    "    ess_history.append(ess)\n",
    "import matplotlib.pyplot as plt\n",
    "plt.plot(ess_history)\n",
    "plt.title('Effective Sample Size Over Time', fontsize=14)\n",
    "plt.xlabel('Time', fontsize=12)\n",
    "plt.ylabel('ESS', fontsize=12)\n",
    "plt.show()\n"
   ]
  },
  {
   "cell_type": "markdown",
   "metadata": {},
   "source": [
    "## 2. Visualize Particle Degeneracy\n"
   ]
  },
  {
   "cell_type": "code",
   "metadata": {},
   "execution_count": null,
   "outputs": [],
   "source": [
    "plt.hist(weights, bins=30, alpha=0.7, color='teal')\n",
    "plt.title('Particle Weights at Final Time', fontsize=14)\n",
    "plt.xlabel('Weight', fontsize=12)\n",
    "plt.ylabel('Count', fontsize=12)\n",
    "plt.show()\n"
   ]
  },
  {
   "cell_type": "markdown",
   "metadata": {},
   "source": [
    "## 3. Compare Filters Under Varying N\n"
   ]
  },
  {
   "cell_type": "code",
   "metadata": {},
   "execution_count": null,
   "outputs": [],
   "source": [
    "Ns = [10, 50, 100, 500]\n",
    "final_ess = []\n",
    "for N in Ns:\n",
    "    particles = [0.0]*N\n",
    "    weights = np.ones(N)/N\n",
    "    for t in range(10):\n",
    "        particles = [p + np.random.normal(0,1) for p in particles]\n",
    "        obs = np.random.normal(0,1)\n",
    "        weights = np.exp(-0.5*(np.array(particles)-obs)**2)\n",
    "        weights /= np.sum(weights)\n",
    "    ess = 1.0 / np.sum(weights**2)\n",
    "    final_ess.append(ess)\n",
    "plt.plot(Ns, final_ess, 'o-')\n",
    "plt.title('Final ESS vs N', fontsize=14)\n",
    "plt.xlabel('N (Particles)', fontsize=12)\n",
    "plt.ylabel('Final ESS', fontsize=12)\n",
    "plt.xscale('log')\n",
    "plt.show()\n"
   ]
  },
  {
   "cell_type": "markdown",
   "metadata": {},
   "source": [
    "## 4. Show Convergence to True State\n"
   ]
  },
  {
   "cell_type": "code",
   "metadata": {},
   "execution_count": null,
   "outputs": [],
   "source": [
    "true_state = 0.0\n",
    "estimates = []\n",
    "particles = [true_state]*N\n",
    "weights = np.ones(N)/N\n",
    "for t in range(T):\n",
    "    particles = [p + np.random.normal(0,1) for p in particles]\n",
    "    obs = np.random.normal(0,1)\n",
    "    weights = np.exp(-0.5*(np.array(particles)-obs)**2)\n",
    "    weights /= np.sum(weights)\n",
    "    estimate = np.sum(np.array(particles)*weights)\n",
    "    estimates.append(estimate)\n",
    "plt.plot(estimates, label='Particle Filter Estimate')\n",
    "plt.axhline(true_state, color='red', linestyle='--', label='True State')\n",
    "plt.title('Convergence to True State', fontsize=14)\n",
    "plt.xlabel('Time', fontsize=12)\n",
    "plt.ylabel('Estimate', fontsize=12)\n",
    "plt.legend()\n",
    "plt.show()\n"
   ]
  },
  {
   "cell_type": "markdown",
   "metadata": {},
   "source": [
    "## 5. Plot Resampling Variability\n"
   ]
  },
  {
   "cell_type": "code",
   "metadata": {},
   "execution_count": null,
   "outputs": [],
   "source": [
    "def multinomial_resample(particles, weights):\n",
    "    idx = np.random.choice(len(particles), size=len(particles), p=weights)\n",
    "    return [particles[i] for i in idx]\n",
    "particles = [0.0]*N\n",
    "weights = np.ones(N)/N\n",
    "for t in range(T):\n",
    "    particles = [p + np.random.normal(0,1) for p in particles]\n",
    "    obs = np.random.normal(0,1)\n",
    "    weights = np.exp(-0.5*(np.array(particles)-obs)**2)\n",
    "    weights /= np.sum(weights)\n",
    "    if 1.0/np.sum(weights**2) < N/2:\n",
    "        particles = multinomial_resample(particles, weights)\n",
    "plt.hist(particles, bins=30, alpha=0.7, color='purple')\n",
    "plt.title('Particle Distribution After Resampling', fontsize=14)\n",
    "plt.xlabel('State', fontsize=12)\n",
    "plt.ylabel('Count', fontsize=12)\n",
    "plt.show()\n"
   ]
  }
 ],
 "metadata": {
  "kernelspec": {
   "display_name": "Python 3",
   "language": "python",
   "name": "python3"
  },
  "language_info": {
   "name": "python",
   "version": "3.8"
  }
 },
 "nbformat": 4,
 "nbformat_minor": 5
}
