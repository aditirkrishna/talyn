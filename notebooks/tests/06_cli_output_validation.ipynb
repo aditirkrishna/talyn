{
 "cells": [
  {
   "cell_type": "markdown",
   "metadata": {},
   "source": [
    "# CLI Output Validation\n",
    "\n",
    "This notebook automates validation of Talyn CLI output using Jupyter subprocess hooks. It checks output traces, schema, DOT generation, and error handling.\n"
   ]
  },
  {
   "cell_type": "markdown",
   "metadata": {},
   "source": [
    "## 1. Run `talyn simulate` Inside Cells\n"
   ]
  },
  {
   "cell_type": "code",
   "metadata": {},
   "execution_count": null,
   "outputs": [],
   "source": [
    "import subprocess\n",
    "result = subprocess.run(['talyn', 'simulate', 'coin.yaml'], capture_output=True, text=True)\n",
    "print('STDOUT:', result.stdout)\n",
    "print('STDERR:', result.stderr)\n"
   ]
  },
  {
   "cell_type": "markdown",
   "metadata": {},
   "source": [
    "## 2. Load and Parse Output Traces\n"
   ]
  },
  {
   "cell_type": "code",
   "metadata": {},
   "execution_count": null,
   "outputs": [],
   "source": [
    "import json\n",
    "with open('output_trace.json') as f:\n",
    "    trace = json.load(f)\n",
    "print('Trace keys:', trace.keys())\n"
   ]
  },
  {
   "cell_type": "markdown",
   "metadata": {},
   "source": [
    "## 3. Validate Against Schema\n"
   ]
  },
  {
   "cell_type": "code",
   "metadata": {},
   "execution_count": null,
   "outputs": [],
   "source": [
    "import jsonschema\n",
    "schema = {\n    'type': 'object',\n    'properties': {\n        'nodes': {'type': 'object'},\n        'edges': {'type': 'array'}\n    },\n    'required': ['nodes', 'edges']\n}\n",
    "jsonschema.validate(trace, schema)\n",
    "print('Trace schema valid.')\n"
   ]
  },
  {
   "cell_type": "markdown",
   "metadata": {},
   "source": [
    "## 4. Test DOT Generation and Compilation Using Graphviz\n"
   ]
  },
  {
   "cell_type": "code",
   "metadata": {},
   "execution_count": null,
   "outputs": [],
   "source": [
    "import graphviz\n",
    "dot = 'digraph { a -> b }'\n",
    "g = graphviz.Source(dot)\n",
    "g.render('test_graph', format='png', cleanup=True)\n",
    "from IPython.display import Image\n",
    "Image('test_graph.png')\n"
   ]
  },
  {
   "cell_type": "markdown",
   "metadata": {},
   "source": [
    "## 5. Log stderr/stdout and Assert Expected Messages for Invalid Inputs\n"
   ]
  },
  {
   "cell_type": "code",
   "metadata": {},
   "execution_count": null,
   "outputs": [],
   "source": [
    "result = subprocess.run(['talyn', 'simulate', 'invalid.yaml'], capture_output=True, text=True)\n",
    "assert 'error' in result.stderr.lower() or 'invalid' in result.stderr.lower()\n",
    "print('Error message detected as expected.')\n"
   ]
  }
 ],
 "metadata": {
  "kernelspec": {
   "display_name": "Python 3",
   "language": "python",
   "name": "python3"
  },
  "language_info": {
   "name": "python",
   "version": "3.8"
  }
 },
 "nbformat": 4,
 "nbformat_minor": 5
}
