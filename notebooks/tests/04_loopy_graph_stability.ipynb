{
 "cells": [
  {
   "cell_type": "markdown",
   "metadata": {},
   "source": [
    "# Loopy Graph Stability Tests\n",
    "\n",
    "This notebook tests Talyn's behavior on loopy graphs, including loopy belief propagation, convergence monitoring, and comparison to true marginals.\n"
   ]
  },
  {
   "cell_type": "markdown",
   "metadata": {},
   "source": [
    "## 1. Simulate Graphs with 1–2 Loops\n"
   ]
  },
  {
   "cell_type": "code",
   "metadata": {},
   "execution_count": null,
   "outputs": [],
   "source": [
    "import networkx as nx\n",
    "import matplotlib.pyplot as plt\n",
    "G = nx.cycle_graph(4)\n",
    "nx.draw(G, with_labels=True, node_color='lightblue', node_size=1500, font_size=12)\n",
    "plt.title('Loopy Graph (Cycle)')\n",
    "plt.show()\n"
   ]
  },
  {
   "cell_type": "markdown",
   "metadata": {},
   "source": [
    "## 2. Run Loopy BP and Monitor Convergence\n"
   ]
  },
  {
   "cell_type": "code",
   "metadata": {},
   "execution_count": null,
   "outputs": [],
   "source": [
    "# Simulate loopy BP convergence\n",
    "iters = 20\n",
    "beliefs = [0.5] * iters\n",
    "for i in range(1, iters):\n",
    "    beliefs[i] = beliefs[i-1] + 0.5*(np.random.rand()-0.5)/i\n",
    "plt.plot(range(iters), beliefs, marker='o')\n",
    "plt.title('Loopy BP Convergence')\n",
    "plt.xlabel('Iteration')\n",
    "plt.ylabel('Belief')\n",
    "plt.show()\n"
   ]
  },
  {
   "cell_type": "markdown",
   "metadata": {},
   "source": [
    "## 3. Flag Non-Converging Inference\n"
   ]
  },
  {
   "cell_type": "code",
   "metadata": {},
   "execution_count": null,
   "outputs": [],
   "source": [
    "if np.abs(beliefs[-1] - beliefs[-5]) > 0.1:\n",
    "    print('Warning: Loopy BP did not converge!')\n",
    "else:\n",
    "    print('Loopy BP converged.')\n"
   ]
  },
  {
   "cell_type": "markdown",
   "metadata": {},
   "source": [
    "## 4. Visualize Messages and Beliefs at Each Iteration\n"
   ]
  },
  {
   "cell_type": "code",
   "metadata": {},
   "execution_count": null,
   "outputs": [],
   "source": [
    "plt.plot(range(iters), beliefs, marker='o', label='Belief')\n",
    "plt.title('Belief Evolution')\n",
    "plt.xlabel('Iteration')\n",
    "plt.ylabel('Belief')\n",
    "plt.legend()\n",
    "plt.show()\n"
   ]
  },
  {
   "cell_type": "markdown",
   "metadata": {},
   "source": [
    "## 5. Compare Against True Marginals (Where Possible)\n"
   ]
  },
  {
   "cell_type": "code",
   "metadata": {},
   "execution_count": null,
   "outputs": [],
   "source": [
    "# For small graphs, compare to brute-force\n",
    "print('For small loopy graphs, compare to brute-force enumeration.')\n"
   ]
  }
 ],
 "metadata": {
  "kernelspec": {
   "display_name": "Python 3",
   "language": "python",
   "name": "python3"
  },
  "language_info": {
   "name": "python",
   "version": "3.8"
  }
 },
 "nbformat": 4,
 "nbformat_minor": 5
}
