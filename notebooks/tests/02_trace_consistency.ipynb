{
 "cells": [
  {
   "cell_type": "markdown",
   "metadata": {},
   "source": [
    "# Trace Consistency Tests\n",
    "\n",
    "This notebook tests that execution traces in Talyn are deterministic, correctly structured, and robust to invalid manipulations.\n"
   ]
  },
  {
   "cell_type": "markdown",
   "metadata": {},
   "source": [
    "## 1. Determinism with Fixed Seed\n"
   ]
  },
  {
   "cell_type": "code",
   "metadata": {},
   "execution_count": null,
   "outputs": [],
   "source": [
    "import numpy as np\n",
    "np.random.seed(42)\n",
    "trace1 = [np.random.normal() for _ in range(5)]\n",
    "np.random.seed(42)\n",
    "trace2 = [np.random.normal() for _ in range(5)]\n",
    "print('Traces identical:', trace1 == trace2)\n"
   ]
  },
  {
   "cell_type": "markdown",
   "metadata": {},
   "source": [
    "## 2. Trace Structure: Node Count, Order, Value\n"
   ]
  },
  {
   "cell_type": "code",
   "metadata": {},
   "execution_count": null,
   "outputs": [],
   "source": [
    "from talyn.ppl.tiny_ppl import Trace\n",
    "from talyn.distributions import Normal\n",
    "trace = Trace()\n",
    "mu = Normal(0, 1).sample(trace=trace)\n",
    "x = Normal(mu, 1).sample(trace=trace)\n",
    "print('Trace node count:', len(trace.nodes))\n",
    "print('Trace order:', list(trace.nodes.keys()))\n",
    "print('Trace values:', list(trace.nodes.values()))\n"
   ]
  },
  {
   "cell_type": "markdown",
   "metadata": {},
   "source": [
    "## 3. Invalid Traces: Cycle Insertion, Improper Reuse\n"
   ]
  },
  {
   "cell_type": "code",
   "metadata": {},
   "execution_count": null,
   "outputs": [],
   "source": [
    "try:\n",
    "    # Simulate a cycle (should raise or be caught)\n",
    "    trace.nodes['a'] = 1\n",
    "    trace.nodes['b'] = 'a'\n",
    "    trace.nodes['a'] = 'b'\n",
    "    print('Cycle not detected!')\n",
    "except Exception as e:\n    print('Cycle detected:', e)\n"
   ]
  },
  {
   "cell_type": "markdown",
   "metadata": {},
   "source": [
    "## 4. Visualize Trace DAGs for Different Seeds\n"
   ]
  },
  {
   "cell_type": "code",
   "metadata": {},
   "execution_count": null,
   "outputs": [],
   "source": [
    "import networkx as nx\n",
    "import matplotlib.pyplot as plt\n",
    "def plot_trace(seed):\n",
    "    np.random.seed(seed)\n",
    "    trace = Trace()\n",
    "    mu = Normal(0, 1).sample(trace=trace)\n",
    "    x = Normal(mu, 1).sample(trace=trace)\n",
    "    G = nx.DiGraph()\n",
    "    for k, v in trace.nodes.items():\n",
    "        G.add_node(k)\n",
    "    G.add_edge('mu', 'x')\n",
    "    nx.draw(G, with_labels=True, node_color='lightblue', node_size=1500, font_size=12)\n",
    "    plt.title(f'Trace DAG (seed={seed})')\n",
    "    plt.show()\n",
    "plot_trace(1)\n",
    "plot_trace(2)\n"
   ]
  },
  {
   "cell_type": "markdown",
   "metadata": {},
   "source": [
    "## 5. Stress Test: Branching/Circular Graph Attempts\n"
   ]
  },
  {
   "cell_type": "code",
   "metadata": {},
   "execution_count": null,
   "outputs": [],
   "source": [
    "try:\n",
    "    # Attempt to create a circular dependency\n",
    "    trace = Trace()\n",
    "    trace.nodes['a'] = 'b'\n",
    "    trace.nodes['b'] = 'a'\n",
    "    print('Circular dependency not detected!')\n",
    "except Exception as e:\n    print('Circular dependency detected:', e)\n"
   ]
  }
 ],
 "metadata": {
  "kernelspec": {
   "display_name": "Python 3",
   "language": "python",
   "name": "python3"
  },
  "language_info": {
   "name": "python",
   "version": "3.8"
  }
 },
 "nbformat": 4,
 "nbformat_minor": 5
}
