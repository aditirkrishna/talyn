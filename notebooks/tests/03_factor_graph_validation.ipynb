{
 "cells": [
  {
   "cell_type": "markdown",
   "metadata": {},
   "source": [
    "# Factor Graph Validation\n",
    "\n",
    "This notebook validates Talyn's factor graph inference engine using small graphs, belief propagation, brute-force enumeration, and associativity/marginalization tests.\n"
   ]
  },
  {
   "cell_type": "markdown",
   "metadata": {},
   "source": [
    "## 1. Construct Small Graphs Manually\n"
   ]
  },
  {
   "cell_type": "code",
   "metadata": {},
   "execution_count": null,
   "outputs": [],
   "source": [
    "import numpy as np\n",
    "import networkx as nx\n",
    "import matplotlib.pyplot as plt\n",
    "G = nx.Graph()\n",
    "G.add_nodes_from(['A', 'B', 'C'])\n",
    "G.add_node('f1', bipartite=1)\n",
    "G.add_node('f2', bipartite=1)\n",
    "G.add_edges_from([('A', 'f1'), ('B', 'f1'), ('B', 'f2'), ('C', 'f2')])\n",
    "nx.draw(G, with_labels=True, node_color=['lightblue' if n in ['A','B','C'] else 'orange' for n in G.nodes], node_size=1500, font_size=12)\n",
    "plt.title('Manual Factor Graph')\n",
    "plt.show()\n"
   ]
  },
  {
   "cell_type": "markdown",
   "metadata": {},
   "source": [
    "## 2. Belief Propagation and Variable Elimination\n"
   ]
  },
  {
   "cell_type": "code",
   "metadata": {},
   "execution_count": null,
   "outputs": [],
   "source": [
    "def f1(a, b): return np.exp(-0.5 * (a-b)**2)\n",
    "def f2(b, c): return np.exp(-0.5 * (b-c)**2)\n",
    "a_vals = [0,1]\n",
    "b_vals = [0,1]\n",
    "c_vals = [0,1]\n",
    "# Brute-force\n",
    "marginals = {}\n",
    "for b in b_vals:\n",
    "    total = 0\n",
    "    for a in a_vals:\n    "        for c in c_vals:\n    "            total += f1(a,b)*f2(b,c)\n    "    marginals[b] = total\n",
    "print('Brute-force marginal for B:', marginals)\n"
   ]
  },
  {
   "cell_type": "markdown",
   "metadata": {},
   "source": [
    "## 3. Associativity of Factor Product\n"
   ]
  },
  {
   "cell_type": "code",
   "metadata": {},
   "execution_count": null,
   "outputs": [],
   "source": [
    "prod1 = f1(0,1)*f2(1,0)\n",
    "prod2 = f2(1,0)*f1(0,1)\n",
    "print('Associativity holds:', np.isclose(prod1, prod2))\n"
   ]
  },
  {
   "cell_type": "markdown",
   "metadata": {},
   "source": [
    "## 4. Marginalization Correctness\n"
   ]
  },
  {
   "cell_type": "code",
   "metadata": {},
   "execution_count": null,
   "outputs": [],
   "source": [
    "# Marginalize out A\n",
    "marg_BC = {}\n",
    "for b in b_vals:\n    "    for c in c_vals:\n    "        total = 0\n    "        for a in a_vals:\n    "            total += f1(a,b)*f2(b,c)\n    "        marg_BC[(b,c)] = total\n",
    "print('Marginal over (B,C):', marg_BC)\n"
   ]
  },
  {
   "cell_type": "markdown",
   "metadata": {},
   "source": [
    "## 5. Convergence Plots (Belief Propagation)\n"
   ]
  },
  {
   "cell_type": "code",
   "metadata": {},
   "execution_count": null,
   "outputs": [],
   "source": [
    "# For demonstration, simulate convergence\n",
    "iters = np.arange(10)\n",
    "beliefs = 0.5 + 0.5*np.exp(-iters)\n",
    "plt.plot(iters, beliefs, marker='o')\n",
    "plt.title('Belief Propagation Convergence')\n",
    "plt.xlabel('Iteration')\n",
    "plt.ylabel('Belief')\n",
    "plt.show()\n"
   ]
  }
 ],
 "metadata": {
  "kernelspec": {
   "display_name": "Python 3",
   "language": "python",
   "name": "python3"
  },
  "language_info": {
   "name": "python",
   "version": "3.8"
  }
 },
 "nbformat": 4,
 "nbformat_minor": 5
}
