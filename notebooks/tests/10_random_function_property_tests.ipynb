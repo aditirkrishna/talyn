{
 "cells": [
  {
   "cell_type": "markdown",
   "metadata": {},
   "source": [
    "# Random Function Property Tests\n",
    "\n",
    "This notebook tests randomness and statistical independence in Talyn's random functions, including distribution comparison, independence, and variance stability.\n"
   ]
  },
  {
   "cell_type": "markdown",
   "metadata": {},
   "source": [
    "## 1. Create Pipelines: $f(x) = \sin(x) + \epsilon$\n"
   ]
  },
  {
   "cell_type": "code",
   "metadata": {},
   "execution_count": null,
   "outputs": [],
   "source": [
    "import numpy as np\n",
    "def f(x): return np.sin(x) + np.random.normal(0,1)\n",
    "xs = np.linspace(-3, 3, 100)\n",
    "ys = [f(x) for x in xs]\n",
    "import matplotlib.pyplot as plt\n",
    "plt.scatter(xs, ys, alpha=0.5, s=10)\n",
    "plt.title('f(x) = sin(x) + Normal(0,1)', fontsize=14)\n",
    "plt.xlabel('x', fontsize=12)\n",
    "plt.ylabel('f(x)', fontsize=12)\n",
    "plt.show()\n"
   ]
  },
  {
   "cell_type": "markdown",
   "metadata": {},
   "source": [
    "## 2. Sample Multiple Runs and Compare Distributions\n"
   ]
  },
  {
   "cell_type": "code",
   "metadata": {},
   "execution_count": null,
   "outputs": [],
   "source": [
    "runs = [np.array([f(x) for x in xs]) for _ in range(5)]\n",
    "for i, run in enumerate(runs):\n",
    "    plt.plot(xs, run, alpha=0.5, label=f'Run {i+1}')\n",
    "plt.title('Multiple Runs of f(x)', fontsize=14)\n",
    "plt.xlabel('x', fontsize=12)\n",
    "plt.ylabel('f(x)', fontsize=12)\n",
    "plt.legend()\n",
    "plt.show()\n"
   ]
  },
  {
   "cell_type": "markdown",
   "metadata": {},
   "source": [
    "## 3. Assert Independence Across Calls\n"
   ]
  },
  {
   "cell_type": "code",
   "metadata": {},
   "execution_count": null,
   "outputs": [],
   "source": [
    "corrs = [np.corrcoef(runs[0], run)[0,1] for run in runs[1:]]\n",
    "print('Correlations between runs (should be near 0):', corrs)\n"
   ]
  },
  {
   "cell_type": "markdown",
   "metadata": {},
   "source": [
    "## 4. Check Variance Stability\n"
   ]
  },
  {
   "cell_type": "code",
   "metadata": {},
   "execution_count": null,
   "outputs": [],
   "source": [
    "vars = [np.var(run) for run in runs]\n",
    "print('Variance across runs:', vars)\n",
    "print('Variance stability (std):', np.std(vars))\n"
   ]
  },
  {
   "cell_type": "markdown",
   "metadata": {},
   "source": [
    "## 5. Visualize Function Transformations Over Input Grid\n"
   ]
  },
  {
   "cell_type": "code",
   "metadata": {},
   "execution_count": null,
   "outputs": [],
   "source": [
    "plt.imshow([run for run in runs], aspect='auto', extent=[xs[0], xs[-1], 1, 5], cmap='viridis')\n",
    "plt.colorbar(label='f(x) value')\n",
    "plt.title('Function Transformations Over Input Grid', fontsize=14)\n",
    "plt.xlabel('x', fontsize=12)\n",
    "plt.ylabel('Run', fontsize=12)\n",
    "plt.show()\n"
   ]
  }
 ],
 "metadata": {
  "kernelspec": {
   "display_name": "Python 3",
   "language": "python",
   "name": "python3"
  },
  "language_info": {
   "name": "python",
   "version": "3.8"
  }
 },
 "nbformat": 4,
 "nbformat_minor": 5
}
