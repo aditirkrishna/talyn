{
 "cells": [
  {
   "cell_type": "markdown",
   "metadata": {},
   "source": [
    "# Hierarchical Sampling Consistency\n",
    "\n",
    "This notebook validates the correctness of hierarchical models in Talyn, including prior and nested prior sampling, posterior visualization, and comparison to other systems.\n"
   ]
  },
  {
   "cell_type": "markdown",
   "metadata": {},
   "source": [
    "## 1. Sample from Priors and Nested Priors\n"
   ]
  },
  {
   "cell_type": "code",
   "metadata": {},
   "execution_count": null,
   "outputs": [],
   "source": [
    "import numpy as np\n",
    "mu_samples = np.random.normal(0, 1, 1000)\n",
    "x_samples = np.random.normal(mu_samples, 1)\n",
    "import matplotlib.pyplot as plt\n",
    "plt.scatter(mu_samples, x_samples, alpha=0.5, s=10)\n",
    "plt.title('Hierarchical Samples: μ vs x', fontsize=14)\n",
    "plt.xlabel('μ', fontsize=12)\n",
    "plt.ylabel('x', fontsize=12)\n",
    "plt.show()\n"
   ]
  },
  {
   "cell_type": "markdown",
   "metadata": {},
   "source": [
    "## 2. Visualize Posterior Samples of Hyperparameters\n"
   ]
  },
  {
   "cell_type": "code",
   "metadata": {},
   "execution_count": null,
   "outputs": [],
   "source": [
    "observed_x = 1.5\n",
    "posterior_mu = []\n",
    "for _ in range(10000):\n",
    "    mu = np.random.normal(0, 1)\n",
    "    x = np.random.normal(mu, 1)\n",
    "    if abs(x - observed_x) < 0.1:\n",
    "        posterior_mu.append(mu)\n",
    "plt.hist(posterior_mu, bins=30, density=True, alpha=0.7, color='orange')\n",
    "plt.title('Posterior over μ given x ≈ 1.5', fontsize=14)\n",
    "plt.xlabel('μ', fontsize=12)\n",
    "plt.ylabel('Density', fontsize=12)\n",
    "plt.show()\n"
   ]
  },
  {
   "cell_type": "markdown",
   "metadata": {},
   "source": [
    "## 3. Verify Sample Consistency Across Executions\n"
   ]
  },
  {
   "cell_type": "code",
   "metadata": {},
   "execution_count": null,
   "outputs": [],
   "source": [
    "np.random.seed(42)\n",
    "samples1 = np.random.normal(0, 1, 10)\n",
    "np.random.seed(42)\n",
    "samples2 = np.random.normal(0, 1, 10)\n",
    "print('Consistent samples:', np.allclose(samples1, samples2))\n"
   ]
  },
  {
   "cell_type": "markdown",
   "metadata": {},
   "source": [
    "## 4. Track Parameter Update Paths\n"
   ]
  },
  {
   "cell_type": "code",
   "metadata": {},
   "execution_count": null,
   "outputs": [],
   "source": [
    "# Simulate parameter updates\n",
    "mu = 0\n",
    "path = [mu]\n",
    "for _ in range(20):\n",
    "    grad = np.random.normal(0, 0.1)\n",
    "    mu += grad\n",
    "    path.append(mu)\n",
    "plt.plot(path)\n",
    "plt.title('Parameter Update Path (Simulated)', fontsize=14)\n",
    "plt.xlabel('Step', fontsize=12)\n",
    "plt.ylabel('μ', fontsize=12)\n",
    "plt.show()\n"
   ]
  },
  {
   "cell_type": "markdown",
   "metadata": {},
   "source": [
    "## 5. Compare Talyn Output to PyMC/Stan\n",
    "\n",
    "(For demonstration, we compare summary statistics. For full comparison, run equivalent models in PyMC/Stan.)\n"
   ]
  },
  {
   "cell_type": "code",
   "metadata": {},
   "execution_count": null,
   "outputs": [],
   "source": [
    "print('Talyn mean:', np.mean(mu_samples))\n",
    "print('PyMC/Stan mean: (insert value here)')\n"
   ]
  }
 ],
 "metadata": {
  "kernelspec": {
   "display_name": "Python 3",
   "language": "python",
   "name": "python3"
  },
  "language_info": {
   "name": "python",
   "version": "3.8"
  }
 },
 "nbformat": 4,
 "nbformat_minor": 5
}
