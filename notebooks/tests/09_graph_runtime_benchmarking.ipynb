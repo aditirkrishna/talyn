{
 "cells": [
  {
   "cell_type": "markdown",
   "metadata": {},
   "source": [
    "# Graph Runtime Benchmarking\n",
    "\n",
    "This notebook profiles inference and sampling performance in Talyn, scaling up graph size and tracking runtime and memory usage.\n"
   ]
  },
  {
   "cell_type": "markdown",
   "metadata": {},
   "source": [
    "## 1. Build Increasingly Large Graphs (10 to 100+ Nodes)\n"
   ]
  },
  {
   "cell_type": "code",
   "metadata": {},
   "execution_count": null,
   "outputs": [],
   "source": [
    "import networkx as nx\n",
    "sizes = [10, 20, 50, 100]\n",
    "graphs = [nx.path_graph(n) for n in sizes]\n",
    "print('Graphs created:', [g.number_of_nodes() for g in graphs])\n"
   ]
  },
  {
   "cell_type": "markdown",
   "metadata": {},
   "source": [
    "## 2. Time Belief Propagation and Sampling\n"
   ]
  },
  {
   "cell_type": "code",
   "metadata": {},
   "execution_count": null,
   "outputs": [],
   "source": [
    "import time\n",
    "bp_times = []\n",
    "for g in graphs:\n",
    "    start = time.time()\n",
    "    # Simulate BP (replace with Talyn BP call)\n",
    "    time.sleep(0.01 * g.number_of_nodes())\n",
    "    bp_times.append(time.time() - start)\n",
    "print('BP times:', bp_times)\n"
   ]
  },
  {
   "cell_type": "markdown",
   "metadata": {},
   "source": [
    "## 3. Track Memory Usage\n"
   ]
  },
  {
   "cell_type": "code",
   "metadata": {},
   "execution_count": null,
   "outputs": [],
   "source": [
    "import os, psutil\n",
    "process = psutil.Process(os.getpid())\n",
    "mem_usage = process.memory_info().rss / 1024**2\n",
    "print('Memory usage (MB):', mem_usage)\n"
   ]
  },
  {
   "cell_type": "markdown",
   "metadata": {},
   "source": [
    "## 4. Analyze Performance Scaling\n"
   ]
  },
  {
   "cell_type": "code",
   "metadata": {},
   "execution_count": null,
   "outputs": [],
   "source": [
    "import matplotlib.pyplot as plt\n",
    "plt.plot(sizes, bp_times, 'o-')\n",
    "plt.title('BP Runtime vs Graph Size', fontsize=14)\n",
    "plt.xlabel('Graph Size (nodes)', fontsize=12)\n",
    "plt.ylabel('BP Runtime (s)', fontsize=12)\n",
    "plt.show()\n"
   ]
  },
  {
   "cell_type": "markdown",
   "metadata": {},
   "source": [
    "## 5. Plot Runtime Curves\n"
   ]
  },
  {
   "cell_type": "code",
   "metadata": {},
   "execution_count": null,
   "outputs": [],
   "source": [
    "plt.plot(sizes, bp_times, 'o-', label='BP Runtime')\n",
    "plt.title('Runtime Scaling', fontsize=14)\n",
    "plt.xlabel('Graph Size (nodes)', fontsize=12)\n",
    "plt.ylabel('Runtime (s)', fontsize=12)\n",
    "plt.legend()\n",
    "plt.show()\n"
   ]
  }
 ],
 "metadata": {
  "kernelspec": {
   "display_name": "Python 3",
   "language": "python",
   "name": "python3"
  },
  "language_info": {
   "name": "python",
   "version": "3.8"
  }
 },
 "nbformat": 4,
 "nbformat_minor": 5
}
