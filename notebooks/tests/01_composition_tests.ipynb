{
 "cells": [
  {
   "cell_type": "markdown",
   "metadata": {},
   "source": [
    "# Composition Tests: Function Composition Validation\n",
    "\n",
    "This notebook verifies statistical integrity under function composition in Talyn. We test uncertainty propagation, nested function stability, and shape/type consistency.\n"
   ]
  },
  {
   "cell_type": "markdown",
   "metadata": {},
   "source": [
    "## 1. Compose Functions: $x \mapsto x^2 + N(0,1)$\n"
   ]
  },
  {
   "cell_type": "code",
   "metadata": {},
   "execution_count": null,
   "outputs": [],
   "source": [
    "import numpy as np\n",
    "def composed(x):\n",
    "    return x**2 + np.random.normal(0,1)\n",
    "xs = np.linspace(-2, 2, 100)\n",
    "ys = [composed(x) for x in xs]\n",
    "import matplotlib.pyplot as plt\n",
    "plt.scatter(xs, ys, alpha=0.5, s=10)\n",
    "plt.title('x^2 + Normal(0,1)', fontsize=14)\n",
    "plt.xlabel('x', fontsize=12)\n",
    "plt.ylabel('Output', fontsize=12)\n",
    "plt.show()\n"
   ]
  },
  {
   "cell_type": "markdown",
   "metadata": {},
   "source": [
    "## 2. Propagation of Uncertainty\n"
   ]
  },
  {
   "cell_type": "code",
   "metadata": {},
   "execution_count": null,
   "outputs": [],
   "source": [
    "means = [np.mean([composed(x) for _ in range(100)]) for x in xs]\n",
    "stds = [np.std([composed(x) for _ in range(100)]) for x in xs]\n",
    "plt.plot(xs, means, label='Mean')\n",
    "plt.fill_between(xs, np.array(means)-np.array(stds), np.array(means)+np.array(stds), alpha=0.3, label='±1 std')\n",
    "plt.title('Propagation of Uncertainty', fontsize=14)\n",
    "plt.xlabel('x', fontsize=12)\n",
    "plt.ylabel('Output', fontsize=12)\n",
    "plt.legend()\n",
    "plt.show()\n"
   ]
  },
  {
   "cell_type": "markdown",
   "metadata": {},
   "source": [
    "## 3. Nested Functions: $f(g(h(x)))$\n"
   ]
  },
  {
   "cell_type": "code",
   "metadata": {},
   "execution_count": null,
   "outputs": [],
   "source": [
    "def h(x): return x + np.random.normal(0,0.5)\n",
    "def g(x): return np.sin(x) + np.random.normal(0,0.5)\n",
    "def f(x): return x**2 + np.random.normal(0,0.5)\n",
    "ys_nested = [f(g(h(x))) for x in xs]\n",
    "plt.scatter(xs, ys_nested, alpha=0.5, s=10, color='orange')\n",
    "plt.title('f(g(h(x)))', fontsize=14)\n",
    "plt.xlabel('x', fontsize=12)\n",
    "plt.ylabel('Output', fontsize=12)\n",
    "plt.show()\n"
   ]
  },
  {
   "cell_type": "markdown",
   "metadata": {},
   "source": [
    "## 4. Manual Simulation vs Composed System\n"
   ]
  },
  {
   "cell_type": "code",
   "metadata": {},
   "execution_count": null,
   "outputs": [],
   "source": [
    "manual = [x**2 + np.random.normal(0,1) for x in xs]\n",
    "composed_vals = [composed(x) for x in xs]\n",
    "print('Manual and composed outputs are close:', np.allclose(manual, composed_vals, atol=1e-1))\n"
   ]
  },
  {
   "cell_type": "markdown",
   "metadata": {},
   "source": [
    "## 5. Shape Consistency and Type Safety\n"
   ]
  },
  {
   "cell_type": "code",
   "metadata": {},
   "execution_count": null,
   "outputs": [],
   "source": [
    "arr = np.array([composed(x) for x in xs])\n",
    "print('Shape:', arr.shape, 'Type:', arr.dtype)\n"
   ]
  }
 ],
 "metadata": {
  "kernelspec": {
   "display_name": "Python 3",
   "language": "python",
   "name": "python3"
  },
  "language_info": {
   "name": "python",
   "version": "3.8"
  }
 },
 "nbformat": 4,
 "nbformat_minor": 5
}
