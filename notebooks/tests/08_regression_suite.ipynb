{
 "cells": [
  {
   "cell_type": "markdown",
   "metadata": {},
   "source": [
    "# Regression Suite\n",
    "\n",
    "This notebook runs canonical test models and compares outputs against gold traces for Talyn regression testing and CI demonstration.\n"
   ]
  },
  {
   "cell_type": "markdown",
   "metadata": {},
   "source": [
    "## 1. Load Reference JSON Traces from Disk\n"
   ]
  },
  {
   "cell_type": "code",
   "metadata": {},
   "execution_count": null,
   "outputs": [],
   "source": [
    "import json\n",
    "with open('reference_trace.json') as f:\n",
    "    gold_trace = json.load(f)\n",
    "print('Reference trace loaded. Keys:', gold_trace.keys())\n"
   ]
  },
  {
   "cell_type": "markdown",
   "metadata": {},
   "source": [
    "## 2. Rerun Same Models\n"
   ]
  },
  {
   "cell_type": "code",
   "metadata": {},
   "execution_count": null,
   "outputs": [],
   "source": [
    "with open('rerun_trace.json') as f:\n",
    "    rerun_trace = json.load(f)\n",
    "print('Rerun trace loaded. Keys:', rerun_trace.keys())\n"
   ]
  },
  {
   "cell_type": "markdown",
   "metadata": {},
   "source": [
    "## 3. Compare Outputs Using Structural Diff (jsondiff)\n"
   ]
  },
  {
   "cell_type": "code",
   "metadata": {},
   "execution_count": null,
   "outputs": [],
   "source": [
    "import jsondiff\n",
    "diff = jsondiff.diff(gold_trace, rerun_trace)\n",
    "print('Diff:', diff)\n"
   ]
  },
  {
   "cell_type": "markdown",
   "metadata": {},
   "source": [
    "## 4. Log Mismatches or Deviations\n"
   ]
  },
  {
   "cell_type": "code",
   "metadata": {},
   "execution_count": null,
   "outputs": [],
   "source": [
    "if diff:\n",
    "    print('Mismatch detected!')\n",
    "else:\n",
    "    print('No mismatch: outputs match gold trace.')\n"
   ]
  },
  {
   "cell_type": "markdown",
   "metadata": {},
   "source": [
    "## 5. Create Error Summary Table\n"
   ]
  },
  {
   "cell_type": "code",
   "metadata": {},
   "execution_count": null,
   "outputs": [],
   "source": [
    "import pandas as pd\n",
    "summary = pd.DataFrame([{'test': 'model1', 'error': bool(diff)}])\n",
    "display(summary)\n"
   ]
  }
 ],
 "metadata": {
  "kernelspec": {
   "display_name": "Python 3",
   "language": "python",
   "name": "python3"
  },
  "language_info": {
   "name": "python",
   "version": "3.8"
  }
 },
 "nbformat": 4,
 "nbformat_minor": 5
}
