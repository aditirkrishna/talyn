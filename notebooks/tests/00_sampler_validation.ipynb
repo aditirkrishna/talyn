{
 "cells": [
  {
   "cell_type": "markdown",
   "metadata": {},
   "source": [
    "# Sampler Validation: Primitive Distributions\n",
    "\n",
    "This notebook validates the statistical correctness of Talyn's primitive distributions. We compare empirical and theoretical statistics, run goodness-of-fit tests, and check edge cases.\n"
   ]
  },
  {
   "cell_type": "markdown",
   "metadata": {},
   "source": [
    "## 1. Bernoulli Distribution\n"
   ]
  },
  {
   "cell_type": "code",
   "metadata": {},
   "execution_count": null,
   "outputs": [],
   "source": [
    "import numpy as np\n",
    "from scipy.stats import bernoulli, chisquare\n",
    "p = 0.7\n",
    "samples = bernoulli.rvs(p, size=1000)\n",
    "emp_mean = np.mean(samples)\n",
    "emp_var = np.var(samples)\n",
    "theo_mean = p\n",
    "theo_var = p*(1-p)\n",
    "print('Empirical mean:', emp_mean, 'Theoretical mean:', theo_mean)\n",
    "print('Empirical var:', emp_var, 'Theoretical var:', theo_var)\n",
    "# Chi-square test\n",
    "counts = np.bincount(samples, minlength=2)\n",
    "expected = [1000*(1-p), 1000*p]\n",
    "chi2, pval = chisquare(counts, expected)\n",
    "print('Chi-square p-value:', pval)\n"
   ]
  },
  {
   "cell_type": "markdown",
   "metadata": {},
   "source": [
    "## 2. Uniform Distribution\n"
   ]
  },
  {
   "cell_type": "code",
   "metadata": {},
   "execution_count": null,
   "outputs": [],
   "source": [
    "from scipy.stats import uniform, kstest\n",
    "samples = uniform.rvs(size=1000)\n",
    "emp_mean = np.mean(samples)\n",
    "emp_var = np.var(samples)\n",
    "theo_mean = 0.5\n",
    "theo_var = 1/12\n",
    "print('Empirical mean:', emp_mean, 'Theoretical mean:', theo_mean)\n",
    "print('Empirical var:', emp_var, 'Theoretical var:', theo_var)\n",
    "# KS test\n",
    "ks, pval = kstest(samples, 'uniform')\n",
    "print('KS p-value:', pval)\n"
   ]
  },
  {
   "cell_type": "markdown",
   "metadata": {},
   "source": [
    "## 3. Normal Distribution\n"
   ]
  },
  {
   "cell_type": "code",
   "metadata": {},
   "execution_count": null,
   "outputs": [],
   "source": [
    "from scipy.stats import norm, skew\n",
    "samples = norm.rvs(loc=0, scale=1, size=1000)\n",
    "emp_mean = np.mean(samples)\n",
    "emp_var = np.var(samples)\n",
    "emp_skew = skew(samples)\n",
    "print('Empirical mean:', emp_mean, 'Theoretical mean: 0')\n",
    "print('Empirical var:', emp_var, 'Theoretical var: 1')\n",
    "print('Empirical skew:', emp_skew, 'Theoretical skew: 0')\n",
    "ks, pval = kstest(samples, 'norm')\n",
    "print('KS p-value:', pval)\n"
   ]
  },
  {
   "cell_type": "markdown",
   "metadata": {},
   "source": [
    "## 4. Beta Distribution\n"
   ]
  },
  {
   "cell_type": "code",
   "metadata": {},
   "execution_count": null,
   "outputs": [],
   "source": [
    "from scipy.stats import beta\n",
    "a, b = 2, 5\n",
    "samples = beta.rvs(a, b, size=1000)\n",
    "emp_mean = np.mean(samples)\n",
    "emp_var = np.var(samples)\n",
    "theo_mean = a/(a+b)\n",
    "theo_var = a*b/((a+b)**2*(a+b+1))\n",
    "print('Empirical mean:', emp_mean, 'Theoretical mean:', theo_mean)\n",
    "print('Empirical var:', emp_var, 'Theoretical var:', theo_var)\n",
    "ks, pval = kstest(samples, 'beta', args=(a, b))\n",
    "print('KS p-value:', pval)\n"
   ]
  },
  {
   "cell_type": "markdown",
   "metadata": {},
   "source": [
    "## 5. Exponential Distribution\n"
   ]
  },
  {
   "cell_type": "code",
   "metadata": {},
   "execution_count": null,
   "outputs": [],
   "source": [
    "from scipy.stats import expon\n",
    "samples = expon.rvs(scale=1, size=1000)\n",
    "emp_mean = np.mean(samples)\n",
    "emp_var = np.var(samples)\n",
    "theo_mean = 1\n",
    "theo_var = 1\n",
    "print('Empirical mean:', emp_mean, 'Theoretical mean:', theo_mean)\n",
    "print('Empirical var:', emp_var, 'Theoretical var:', theo_var)\n",
    "ks, pval = kstest(samples, 'expon')\n",
    "print('KS p-value:', pval)\n"
   ]
  },
  {
   "cell_type": "markdown",
   "metadata": {},
   "source": [
    "## 6. Histograms and PDFs\n"
   ]
  },
  {
   "cell_type": "code",
   "metadata": {},
   "execution_count": null,
   "outputs": [],
   "source": [
    "import matplotlib.pyplot as plt\n",
    "x = np.linspace(-3, 3, 100)\n",
    "plt.hist(norm.rvs(size=1000), bins=30, density=True, alpha=0.5, label='Empirical')\n",
    "plt.plot(x, norm.pdf(x), label='Theoretical PDF')\n",
    "plt.title('Normal Distribution: Empirical vs Theoretical')\n",
    "plt.legend()\n",
    "plt.show()\n"
   ]
  },
  {
   "cell_type": "markdown",
   "metadata": {},
   "source": [
    "## 7. Vary Sample Size to Show Convergence\n"
   ]
  },
  {
   "cell_type": "code",
   "metadata": {},
   "execution_count": null,
   "outputs": [],
   "source": [
    "sizes = [10, 100, 1000, 10000]\n",
    "means = [np.mean(norm.rvs(size=s)) for s in sizes]\n",
    "plt.plot(sizes, means, 'o-')\n",
    "plt.axhline(0, color='red', linestyle='--', label='Theoretical mean')\n",
    "plt.xscale('log')\n",
    "plt.xlabel('Sample size')\n",
    "plt.ylabel('Empirical mean')\n",
    "plt.title('Convergence of Empirical Mean')\n",
    "plt.legend()\n",
    "plt.show()\n"
   ]
  },
  {
   "cell_type": "markdown",
   "metadata": {},
   "source": [
    "## 8. Pathological Inputs\n"
   ]
  },
  {
   "cell_type": "code",
   "metadata": {},
   "execution_count": null,
   "outputs": [],
   "source": [
    "# Normal with σ=0\n",
    "samples = norm.rvs(loc=5, scale=0, size=10)\n",
    "print('Normal(5,0) samples:', samples)\n",
    "# Bernoulli with p=1\n",
    "samples = bernoulli.rvs(1, size=10)\n",
    "print('Bernoulli(1) samples:', samples)\n"
   ]
  }
 ],
 "metadata": {
  "kernelspec": {
   "display_name": "Python 3",
   "language": "python",
   "name": "python3"
  },
  "language_info": {
   "name": "python",
   "version": "3.8"
  }
 },
 "nbformat": 4,
 "nbformat_minor": 5
}
