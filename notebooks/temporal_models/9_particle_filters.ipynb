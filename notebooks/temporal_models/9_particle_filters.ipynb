{
 "cells": [
  {
   "cell_type": "markdown",
   "metadata": {},
   "source": [
    "# Particle Filters in Talyn\n",
    "\n",
    "This notebook demonstrates non-linear filtering with sequential Monte Carlo (particle filters) in Talyn.\n"
   ]
  },
  {
   "cell_type": "markdown",
   "metadata": {},
   "source": [
    "## 1. Implement Resampling Steps\n",
    "\n",
    "We simulate a simple state-space model and apply particle filtering.\n"
   ]
  },
  {
   "cell_type": "code",
   "metadata": {},
   "execution_count": null,
   "outputs": [],
   "source": [
    "import numpy as np\n",
    "def multinomial_resample(particles, weights):\n",
    "    idx = np.random.choice(len(particles), size=len(particles), p=weights)\n",
    "    return [particles[i] for i in idx]\n",
    "def effective_sample_size(weights):\n",
    "    return 1.0 / np.sum(np.square(weights))\n"
   ]
  },
  {
   "cell_type": "markdown",
   "metadata": {},
   "source": [
    "## 2. Track Effective Sample Size\n"
   ]
  },
  {
   "cell_type": "code",
   "metadata": {},
   "execution_count": null,
   "outputs": [],
   "source": [
    "N = 100\n",
    "T = 20\n",
    "particles = [0.0]*N\n",
    "weights = np.ones(N)/N\n",
    "ess_history = []\n",
    "for t in range(T):\n",
    "    # Propagate\n",
    "    particles = [p + np.random.normal(0,1) for p in particles]\n",
    "    obs = np.random.normal(0,1)\n",
    "    # Weight\n",
    "    weights = np.exp(-0.5*(np.array(particles)-obs)**2)\n",
    "    weights /= np.sum(weights)\n",
    "    ess = effective_sample_size(weights)\n",
    "    ess_history.append(ess)\n",
    "    # Resample if ESS too low\n",
    "    if ess < N/2:\n",
    "        particles = multinomial_resample(particles, weights)\n",
    "        weights = np.ones(N)/N\n",
    "import matplotlib.pyplot as plt\n",
    "plt.plot(ess_history)\n",
    "plt.title('Effective Sample Size Over Time', fontsize=14)\n",
    "plt.xlabel('Time', fontsize=12)\n",
    "plt.ylabel('ESS', fontsize=12)\n",
    "plt.show()\n"
   ]
  },
  {
   "cell_type": "markdown",
   "metadata": {},
   "source": [
    "## 3. Visualize Particle Spread Over Time\n"
   ]
  },
  {
   "cell_type": "code",
   "metadata": {},
   "execution_count": null,
   "outputs": [],
   "source": [
    "plt.hist(particles, bins=30, alpha=0.7, color='teal')\n",
    "plt.title('Particle Distribution at Final Time', fontsize=14)\n",
    "plt.xlabel('State', fontsize=12)\n",
    "plt.ylabel('Count', fontsize=12)\n",
    "plt.show()\n"
   ]
  },
  {
   "cell_type": "markdown",
   "metadata": {},
   "source": [
    "## 4. Compare Resampling Strategies\n",
    "\n",
    "Talyn supports multiple resampling strategies (multinomial, stratified, etc.).\n    (For demonstration, we show multinomial. For stratified, see Talyn's particle filter module.)\n"
   ]
  },
  {
   "cell_type": "code",
   "metadata": {},
   "execution_count": null,
   "outputs": [],
   "source": [
    "print('For stratified resampling, see Talyn\'s particle filter module.')\n"
   ]
  },
  {
   "cell_type": "markdown",
   "metadata": {},
   "source": [
    "---\n",
    "\n",
    "This notebook demonstrated particle filtering in Talyn. Next, we'll explore importance sampling.\n"
   ]
  }
 ],
 "metadata": {
  "kernelspec": {
   "display_name": "Python 3",
   "language": "python",
   "name": "python3"
  },
  "language_info": {
   "name": "python",
   "version": "3.8"
  }
 },
 "nbformat": 4,
 "nbformat_minor": 5
}
