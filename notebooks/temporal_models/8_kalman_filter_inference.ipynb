{
 "cells": [
  {
   "cell_type": "markdown",
   "metadata": {},
   "source": [
    "# Kalman Filter Inference in Talyn\n",
    "\n",
    "This notebook demonstrates how to implement a linear Gaussian state-space model and run the Kalman filter in Talyn.\n"
   ]
  },
  {
   "cell_type": "markdown",
   "metadata": {},
   "source": [
    "## 1. Define Transition and Observation Models\n",
    "\n",
    "We define a 1D linear dynamical system:\n",
    "\n",
    "$x_{t+1} = a x_t + w_t$, $w_t \sim N(0, q)$\n",
    "$y_t = x_t + v_t$, $v_t \sim N(0, r)$\n"
   ]
  },
  {
   "cell_type": "code",
   "metadata": {},
   "execution_count": null,
   "outputs": [],
   "source": [
    "import numpy as np\n",
    "a, q, r = 0.9, 1.0, 1.0\n",
    "T = 30\n",
    "x = [0.0]\n",
    "y = []\n",
    "for t in range(T):\n",
    "    x.append(a * x[-1] + np.random.normal(0, np.sqrt(q)))\n",
    "    y.append(x[-1] + np.random.normal(0, np.sqrt(r)))\n",
    "x = x[1:]\n",
    "y = np.array(y)\n",
    "print('True states:', x[:5])\n    ",
    "print('Observations:', y[:5])\n"
   ]
  },
  {
   "cell_type": "markdown",
   "metadata": {},
   "source": [
    "## 2. Run Kalman Filter Step-by-Step\n",
    "\n",
    "We perform prediction and update steps for each time point.\n"
   ]
  },
  {
   "cell_type": "code",
   "metadata": {},
   "execution_count": null,
   "outputs": [],
   "source": [
    "x_hat = [0.0]\n",
    "P = [1.0]\n",
    "for t in range(T):\n",
    "    # Predict\n",
    "    x_pred = a * x_hat[-1]\n",
    "    P_pred = a**2 * P[-1] + q\n",
    "    # Update\n",
    "    K = P_pred / (P_pred + r)\n",
    "    x_new = x_pred + K * (y[t] - x_pred)\n",
    "    P_new = (1 - K) * P_pred\n",
    "    x_hat.append(x_new)\n",
    "    P.append(P_new)\n",
    "x_hat = x_hat[1:]\n",
    "P = P[1:]\n",
    "print('Filtered estimates:', x_hat[:5])\n"
   ]
  },
  {
   "cell_type": "markdown",
   "metadata": {},
   "source": [
    "## 3. Plot Estimate vs True State\n"
   ]
  },
  {
   "cell_type": "code",
   "metadata": {},
   "execution_count": null,
   "outputs": [],
   "source": [
    "import matplotlib.pyplot as plt\n",
    "plt.figure(figsize=(10,4))\n",
    "plt.plot(x, label='True State', linewidth=2)\n",
    "plt.plot(y, 'o', label='Observations', alpha=0.5)\n",
    "plt.plot(x_hat, label='Kalman Estimate', linewidth=2)\n",
    "plt.fill_between(range(T), np.array(x_hat)-np.sqrt(P), np.array(x_hat)+np.sqrt(P), color='gray', alpha=0.2, label='Estimate ±1σ')\n",
    "plt.legend(fontsize=12)\n",
    "plt.title('Kalman Filter: Estimate vs True State', fontsize=14)\n",
    "plt.xlabel('Time', fontsize=12)\n",
    "plt.show()\n"
   ]
  },
  {
   "cell_type": "markdown",
   "metadata": {},
   "source": [
    "## 4. Compare Kalman vs Particle Filter Outputs\n",
    "\n",
    "(For brevity, we illustrate the concept. For nonlinear models, use Talyn's particle filter module.)\n"
   ]
  },
  {
   "cell_type": "code",
   "metadata": {},
   "execution_count": null,
   "outputs": [],
   "source": [
    "print('For nonlinear models, see the next notebook on particle filters.')\n"
   ]
  },
  {
   "cell_type": "markdown",
   "metadata": {},
   "source": [
    "---\n",
    "\n",
    "This notebook demonstrated Kalman filtering in Talyn. Next, we'll explore particle filters.\n"
   ]
  }
 ],
 "metadata": {
  "kernelspec": {
   "display_name": "Python 3",
   "language": "python",
   "name": "python3"
  },
  "language_info": {
   "name": "python",
   "version": "3.8"
  }
 },
 "nbformat": 4,
 "nbformat_minor": 5
}
