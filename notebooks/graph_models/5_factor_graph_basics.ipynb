{
 "cells": [
  {
   "cell_type": "markdown",
   "metadata": {},
   "source": [
    "# Factor Graph Basics in Talyn\n",
    "\n",
    "This notebook teaches how to construct and perform inference on factor graphs in Talyn.\n"
   ]
  },
  {
   "cell_type": "markdown",
   "metadata": {},
   "source": [
    "## 1. Building a 3-Variable Factor Graph\n",
    "\n",
    "Let's construct a simple factor graph with three variables: $A$, $B$, $C$.\n"
   ]
  },
  {
   "cell_type": "code",
   "metadata": {},
   "execution_count": null,
   "outputs": [],
   "source": [
    "import networkx as nx\n",
    "import matplotlib.pyplot as plt\n",
    "G = nx.Graph()\n",
    "G.add_nodes_from(['A', 'B', 'C'])\n",
    "G.add_node('f1', bipartite=1)\n",
    "G.add_node('f2', bipartite=1)\n",
    "G.add_edges_from([('A', 'f1'), ('B', 'f1'), ('B', 'f2'), ('C', 'f2')])\n",
    "pos = nx.spring_layout(G)\n",
    "nx.draw(G, pos, with_labels=True, node_color=['lightblue' if n in ['A','B','C'] else 'orange' for n in G.nodes], node_size=1500, font_size=12)\n",
    "plt.title('3-Variable Factor Graph', fontsize=14)\n",
    "plt.show()\n"
   ]
  },
  {
   "cell_type": "markdown",
   "metadata": {},
   "source": [
    "## 2. Defining Unary and Pairwise Potentials\n",
    "\n",
    "In Talyn, factors are functions over variables. For example, $f_1(A,B)$ and $f_2(B,C)$.\n"
   ]
  },
  {
   "cell_type": "code",
   "metadata": {},
   "execution_count": null,
   "outputs": [],
   "source": [
    "def f1(a, b):\n",
    "    return np.exp(-0.5 * (a-b)**2)\n",
    "def f2(b, c):\n",
    "    return np.exp(-0.5 * (b-c)**2)\n",
    "# Example: evaluate potentials\n",
    "print('f1(1,2):', f1(1,2))\n",
    "print('f2(2,3):', f2(2,3))\n"
   ]
  },
  {
   "cell_type": "markdown",
   "metadata": {},
   "source": [
    "## 3. Belief Propagation\n",
    "\n",
    "Belief propagation is an algorithm for computing marginal distributions in factor graphs.\n    (Here, we illustrate the message-passing steps conceptually.)\n"
   ]
  },
  {
   "cell_type": "code",
   "metadata": {},
   "execution_count": null,
   "outputs": [],
   "source": [
    "# Pseudocode for message passing\n",
    "# For real inference, use Talyn's inference modules\n",
    "def message_from_f1_to_B(a_vals, b_vals):\n",
    "    # Sum over A\n",
    "    return [sum(f1(a, b) for a in a_vals) for b in b_vals]\n",
    "a_vals = [0,1]\n",
    "b_vals = [0,1]\n",
    "print('Message f1->B:', message_from_f1_to_B(a_vals, b_vals))\n"
   ]
  },
  {
   "cell_type": "markdown",
   "metadata": {},
   "source": [
    "## 4. Visualizing the Bipartite Graph\n",
    "\n",
    "Factor graphs are bipartite: variable nodes and factor nodes.\n"
   ]
  },
  {
   "cell_type": "code",
   "metadata": {},
   "execution_count": null,
   "outputs": [],
   "source": [
    "# Already visualized above with different colors for variables and factors\n"
   ]
  },
  {
   "cell_type": "markdown",
   "metadata": {},
   "source": [
    "## 5. Comparing Output to Exact Marginals\n",
    "\n",
    "For small graphs, we can compute exact marginals by brute force.\n"
   ]
  },
  {
   "cell_type": "code",
   "metadata": {},
   "execution_count": null,
   "outputs": [],
   "source": [
    "# Brute-force marginal for B\n",
    "marginal_B = {}\n",
    "for b in b_vals:\n",
    "    total = 0\n",
    "    for a in a_vals:\n",
    "        for c in [0,1]:\n",
    "            total += f1(a,b)*f2(b,c)\n",
    "    marginal_B[b] = total\n",
    "print('Exact marginal for B:', marginal_B)\n"
   ]
  },
  {
   "cell_type": "markdown",
   "metadata": {},
   "source": [
    "---\n",
    "\n",
    "This notebook introduced factor graphs in Talyn. Next, we'll build Bayesian networks.\n"
   ]
  }
 ],
 "metadata": {
  "kernelspec": {
   "display_name": "Python 3",
   "language": "python",
   "name": "python3"
  },
  "language_info": {
   "name": "python",
   "version": "3.8"
  }
 },
 "nbformat": 4,
 "nbformat_minor": 5
}
