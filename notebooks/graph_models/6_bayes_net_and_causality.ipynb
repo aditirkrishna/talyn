{
 "cells": [
  {
   "cell_type": "markdown",
   "metadata": {},
   "source": [
    "# Bayesian Networks and Causality in Talyn\n",
    "\n",
    "This notebook demonstrates how to build Bayesian Networks, run inference queries, and understand causality and d-separation in Talyn.\n"
   ]
  },
  {
   "cell_type": "markdown",
   "metadata": {},
   "source": [
    "## 1. Creating a Small DAG: $A \rightarrow B \leftarrow C$\n",
    "\n",
    "Let's define a simple Bayesian Network with three variables.\n"
   ]
  },
  {
   "cell_type": "code",
   "metadata": {},
   "execution_count": null,
   "outputs": [],
   "source": [
    "import networkx as nx\n",
    "import matplotlib.pyplot as plt\n",
    "G = nx.DiGraph()\n",
    "G.add_edges_from([('A', 'B'), ('C', 'B')])\n",
    "pos = nx.spring_layout(G)\n",
    "nx.draw(G, pos, with_labels=True, node_color='lightblue', node_size=1500, font_size=12, arrowsize=20)\n",
    "plt.title('Bayesian Network: A → B ← C', fontsize=14)\n",
    "plt.show()\n"
   ]
  },
  {
   "cell_type": "markdown",
   "metadata": {},
   "source": [
    "## 2. Sampling the Full Joint and Computing Marginals\n",
    "\n",
    "We define conditional distributions for each variable.\n"
   ]
  },
  {
   "cell_type": "code",
   "metadata": {},
   "execution_count": null,
   "outputs": [],
   "source": [
    "from talyn.distributions import Bernoulli\n",
    "import numpy as np\n",
    "def sample_bn():\n",
    "    A = Bernoulli(0.5).sample()\n",
    "    C = Bernoulli(0.5).sample()\n    ",
    "    # B depends on A and C\n",
    "    p_B = 0.9 if (A == 1 or C == 1) else 0.1\n",
    "    B = Bernoulli(p_B).sample()\n",
    "    return A, B, C\n",
    "samples = [sample_bn() for _ in range(1000)]\n",
    "A_vals, B_vals, C_vals = zip(*samples)\n",
    "print('P(B=1):', np.mean([b==1 for b in B_vals]))\n",
    "print('P(A=1):', np.mean([a==1 for a in A_vals]))\n",
    "print('P(C=1):', np.mean([c==1 for c in C_vals]))\n"
   ]
  },
  {
   "cell_type": "markdown",
   "metadata": {},
   "source": [
    "## 3. Inference Queries\n",
    "\n",
    "Let's estimate $P(B|A=1)$ and $P(C|B=0)$.\n"
   ]
  },
  {
   "cell_type": "code",
   "metadata": {},
   "execution_count": null,
   "outputs": [],
   "source": [
    "# P(B=1 | A=1)\n",
    "B_given_A1 = [b for a, b, c in samples if a==1]\n",
    "print('P(B=1 | A=1):', np.mean([b==1 for b in B_given_A1]))\n",
    "# P(C=1 | B=0)\n",
    "C_given_B0 = [c for a, b, c in samples if b==0]\n",
    "print('P(C=1 | B=0):', np.mean([c==1 for c in C_given_B0]))\n"
   ]
  },
  {
   "cell_type": "markdown",
   "metadata": {},
   "source": [
    "## 4. Causal Semantics vs Statistical Semantics\n",
    "\n",
    "- **Statistical semantics**: Conditioning on $B$ changes the distribution of $A$ and $C$.\n",
    "- **Causal semantics**: Intervening on $B$ (setting $B$) breaks the arrows into $B$.\n",
    "\n",
    "Talyn supports both conditioning and intervention (do-operator) semantics.\n"
   ]
  },
  {
   "cell_type": "markdown",
   "metadata": {},
   "source": [
    "## 5. D-Separation Explained\n",
    "\n",
    "D-separation determines conditional independence in Bayesian networks.\n",
    "\n",
    "- $A$ and $C$ are independent marginally, but become dependent when conditioning on $B$.\n",
    "- This is called a \"collider\" structure.\n"
   ]
  },
  {
   "cell_type": "code",
   "metadata": {},
   "execution_count": null,
   "outputs": [],
   "source": [
    "# Empirical check: correlation between A and C\n",
    "print('Correlation A,C:', np.corrcoef(A_vals, C_vals)[0,1])\n",
    "# Conditioned on B=1\n",
    "A_given_B1 = [a for a, b, c in samples if b==1]\n",
    "C_given_B1 = [c for a, b, c in samples if b==1]\n",
    "print('Correlation A,C | B=1:', np.corrcoef(A_given_B1, C_given_B1)[0,1])\n"
   ]
  },
  {
   "cell_type": "markdown",
   "metadata": {},
   "source": [
    "---\n",
    "\n",
    "This notebook introduced Bayesian networks and causality in Talyn. Next, we'll explore hidden Markov models.\n"
   ]
  }
 ],
 "metadata": {
  "kernelspec": {
   "display_name": "Python 3",
   "language": "python",
   "name": "python3"
  },
  "language_info": {
   "name": "python",
   "version": "3.8"
  }
 },
 "nbformat": 4,
 "nbformat_minor": 5
}
