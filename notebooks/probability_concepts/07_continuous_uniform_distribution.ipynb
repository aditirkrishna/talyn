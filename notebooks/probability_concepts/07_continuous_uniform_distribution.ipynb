s please do that{
 "cells": [
  {
   "cell_type": "markdown",
   "metadata": {},
   "source": [
    "# Continuous Uniform Distribution\n"
   ]
  },
  {
   "cell_type": "markdown",
   "metadata": {},
   "source": [
    "## Introduction\n",
    "The **continuous uniform distribution** assigns equal probability density to all values in a given interval. It is the simplest continuous probability distribution and is often used to model random variables with no preference within a range.\n"
   ]
  },
  {
   "cell_type": "markdown",
   "metadata": {},
   "source": [
    "## Mathematical Explanation\n",
    "If $X$ is a continuous random variable on $[a, b]$, then:\n",
    "$$f_X(x) = \\frac{1}{b-a}, \\quad a \\leq x \\leq b$$\n",
    "\n",
    "- **Mean:** $\\mathbb{E}[X] = \\frac{a+b}{2}$\n",
    "- **Variance:** $\\mathrm{Var}(X) = \\frac{(b-a)^2}{12}$\n",
    "\n",
    "### Example\n",
    "A random variable uniformly distributed on $[0, 1]$.\n"
   ]
  },
  {
   "cell_type": "code",
   "metadata": {},
   "execution_count": null,
   "outputs": [],
   "source": [
    "# Visualizing the continuous uniform distribution\n",
    "import numpy as np\n",
    "import matplotlib.pyplot as plt\n",
    "a, b = 0, 1\n",
    "x = np.linspace(a, b, 100)\n",
    "pdf = np.ones_like(x) / (b - a)\n",
    "plt.plot(x, pdf)\n",
    "plt.xlabel('x')\n",
    "plt.ylabel('Density')\n",
    "plt.title('Continuous Uniform Distribution [0, 1]')\n",
    "plt.ylim(0, 2)\n",
    "plt.show()\n"
   ]
  },
  {
   "cell_type": "markdown",
   "metadata": {},
   "source": [
    "## Exercises\n",
    "1. What is the mean and variance of a uniform($a=2$, $b=6$) random variable?\n",
    "2. Simulate 1000 samples from $U[0,5]$ and plot the histogram.\n",
    "3. Give a real-world example modeled by a continuous uniform distribution.\n",
    "4. How does the continuous uniform distribution differ from the discrete uniform distribution?\n"
   ]
  },
  {
   "cell_type": "markdown",
   "metadata": {},
   "source": [
    "## References\n",
    "- Sheldon Ross, *A First Course in Probability*\n",
    "- https://en.wikipedia.org/wiki/Uniform_distribution_(continuous)\n"
   ]
  }
 ],
 "metadata": {
  "kernelspec": {
   "display_name": "Python 3",
   "language": "python3",
   "name": "python3"
  },
  "language_info": {
   "name": "python",
   "version": "3.8"
  }
 },
 "nbformat": 4,
 "nbformat_minor": 2
}
