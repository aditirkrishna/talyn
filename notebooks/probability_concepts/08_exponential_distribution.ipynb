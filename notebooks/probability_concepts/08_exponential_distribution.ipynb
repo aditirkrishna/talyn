{
 "cells": [
  {
   "cell_type": "markdown",
   "metadata": {},
   "source": [
    "# Exponential Distribution\n"
   ]
  },
  {
   "cell_type": "markdown",
   "metadata": {},
   "source": [
    "## Introduction\n",
    "The **exponential distribution** is a continuous probability distribution that describes the time between events in a Poisson process. It is widely used in reliability analysis, queuing theory, and survival analysis.\n"
   ]
  },
  {
   "cell_type": "markdown",
   "metadata": {},
   "source": [
    "## Mathematical Explanation\n",
    "A random variable $X$ has an exponential distribution with rate parameter $\\lambda > 0$ if:\n",
    "$$f_X(x) = \\lambda e^{-\\lambda x}, \\quad x \\geq 0$$\n",
    "\n",
    "- **Mean:** $\\mathbb{E}[X] = 1/\\lambda$\n",
    "- **Variance:** $\\mathrm{Var}(X) = 1/\\lambda^2$\n",
    "\n",
    "### Example\n",
    "The time between arrivals in a Poisson process with $\\lambda=2$.\n"
   ]
  },
  {
   "cell_type": "code",
   "metadata": {},
   "execution_count": null,
   "outputs": [],
   "source": [
    "# Visualizing the exponential distribution\n",
    "import numpy as np\n",
    "import matplotlib.pyplot as plt\n",
    "from scipy.stats import expon\n",
    "lam = 2\n",
    "x = np.linspace(0, 3, 100)\n",
    "pdf = expon.pdf(x, scale=1/lam)\n",
    "plt.plot(x, pdf)\n",
    "plt.xlabel('x')\n",
    "plt.ylabel('Density')\n",
    "plt.title(f'Exponential Distribution (lambda={lam})')\n",
    "plt.show()\n"
   ]
  },
  {
   "cell_type": "markdown",
   "metadata": {},
   "source": [
    "## Exercises\n",
    "1. What is the mean and variance of an exponential($\\lambda=3$) random variable?\n",
    "2. Simulate 1000 exponential random variables with $\\lambda=1$ and plot the histogram.\n",
    "3. Give a real-world example modeled by an exponential distribution.\n",
    "4. How does the exponential distribution relate to the Poisson process?\n"
   ]
  },
  {
   "cell_type": "markdown",
   "metadata": {},
   "source": [
    "## References\n",
    "- Sheldon Ross, *A First Course in Probability*\n",
    "- https://en.wikipedia.org/wiki/Exponential_distribution\n"
   ]
  }
 ],
 "metadata": {
  "kernelspec": {
   "display_name": "Python 3",
   "language": "python3",
   "name": "python3"
  },
  "language_info": {
   "name": "python",
   "version": "3.8"
  }
 },
 "nbformat": 4,
 "nbformat_minor": 2
}
