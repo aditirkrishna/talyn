{
 "cells": [
  {
   "cell_type": "markdown",
   "metadata": {},
   "source": [
    "# Poisson Distribution\n"
   ]
  },
  {
   "cell_type": "markdown",
   "metadata": {},
   "source": [
    "## Introduction\n",
    "The **Poisson distribution** models the number of events occurring in a fixed interval of time or space, when these events happen independently and at a constant average rate. It is widely used in queuing theory, telecommunications, and reliability engineering.\n"
   ]
  },
  {
   "cell_type": "markdown",
   "metadata": {},
   "source": [
    "## Mathematical Explanation\n",
    "A random variable $X$ has a Poisson distribution with parameter $\\lambda > 0$ if:\n",
    "$$P(X = k) = \\frac{\\lambda^k e^{-\\lambda}}{k!}$$\n",
    "for $k = 0, 1, 2, \\ldots$\n",
    "\n",
    "- **Mean:** $\\mathbb{E}[X] = \\lambda$\n",
    "- **Variance:** $\\mathrm{Var}(X) = \\lambda$\n"
   ]
  },
  {
   "cell_type": "code",
   "metadata": {},
   "execution_count": null,
   "outputs": [],
   "source": [
    "# Visualizing the Poisson distribution\n",
    "import numpy as np\n",
    "import matplotlib.pyplot as plt\n",
    "from scipy.stats import poisson\n",
    "lam = 3\n",
    "x = np.arange(0, 11)\n",
    "pmf = poisson.pmf(x, lam)\n",
    "plt.stem(x, pmf, basefmt=\" \", use_line_collection=True)\n",
    "plt.xlabel('Number of Events')\n",
    "plt.ylabel('Probability')\n",
    "plt.title(f'Poisson Distribution (lambda={lam})')\n",
    "plt.show()\n"
   ]
  },
  {
   "cell_type": "markdown",
   "metadata": {},
   "source": [
    "## Exercises\n",
    "1. What is the mean and variance of a Poisson($\\lambda=5$) random variable?\n",
    "2. Simulate 1000 Poisson random variables with $\\lambda=2$ and plot the histogram.\n",
    "3. Give a real-world example modeled by a Poisson distribution.\n",
    "4. How does the Poisson distribution relate to the binomial distribution?\n"
   ]
  },
  {
   "cell_type": "markdown",
   "metadata": {},
   "source": [
    "## References\n",
    "- Sheldon Ross, *A First Course in Probability*\n",
    "- https://en.wikipedia.org/wiki/Poisson_distribution\n"
   ]
  }
 ],
 "metadata": {
  "kernelspec": {
   "display_name": "Python 3",
   "language": "python3",
   "name": "python3"
  },
  "language_info": {
   "name": "python",
   "version": "3.8"
  }
 },
 "nbformat": 4,
 "nbformat_minor": 2
}
