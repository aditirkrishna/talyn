{
 "cells": [
  {
   "cell_type": "markdown",
   "metadata": {},
   "source": [
    "# Expectation and Variance\n"
   ]
  },
  {
   "cell_type": "markdown",
   "metadata": {},
   "source": [
    "## Introduction\n",
    "The **expectation** (or mean) and **variance** are fundamental measures that describe the central tendency and spread of a random variable. They are widely used in probability, statistics, and data analysis.\n"
   ]
  },
  {
   "cell_type": "markdown",
   "metadata": {},
   "source": [
    "## Mathematical Explanation\n",
    "Let $X$ be a random variable.\n",
    "- **Expectation (mean):**\n",
    "  - Discrete: $\\mathbb{E}[X] = \\sum_x x P(X = x)$\n",
    "  - Continuous: $\\mathbb{E}[X] = \\int_{-\\infty}^{\\infty} x f_X(x) dx$\n",
    "- **Variance:**\n",
    "  - $\\mathrm{Var}(X) = \\mathbb{E}[(X - \\mathbb{E}[X])^2]$\n",
    "  - $\\mathrm{Var}(X) = \\mathbb{E}[X^2] - (\\mathbb{E}[X])^2$\n",
    "\n",
    "### Example\n",
    "Let $X$ be the outcome of a fair die.\n",
    "$\\mathbb{E}[X] = \\sum_{k=1}^6 k \\cdot (1/6) = 3.5$\n",
    "$\\mathrm{Var}(X) = \\sum_{k=1}^6 (k - 3.5)^2 \\cdot (1/6) = 2.9167$\n"
   ]
  },
  {
   "cell_type": "code",
   "metadata": {},
   "execution_count": null,
   "outputs": [],
   "source": [
    "# Calculating expectation and variance for a fair die\n",
    "import numpy as np\n",
    "outcomes = np.arange(1, 7)\n",
    "probs = np.ones(6) / 6\n",
    "expectation = np.sum(outcomes * probs)\n",
    "variance = np.sum((outcomes - expectation)**2 * probs)\n",
    "print(f'Expectation: {expectation}')\n",
    "print(f'Variance: {variance}')\n"
   ]
  },
  {
   "cell_type": "markdown",
   "metadata": {},
   "source": [
    "## Exercises\n",
    "1. Compute the expectation and variance of a Bernoulli($p$) random variable.\n",
    "2. For a binomial($n=10$, $p=0.3$) random variable, compute the mean and variance.\n",
    "3. What is the variance of a constant random variable?\n",
    "4. Plot the mean and variance of a Poisson($\\lambda$) random variable as $\\lambda$ varies from 1 to 10.\n"
   ]
  },
  {
   "cell_type": "markdown",
   "metadata": {},
   "source": [
    "## References\n",
    "- Sheldon Ross, *A First Course in Probability*\n",
    "- https://en.wikipedia.org/wiki/Expected_value\n",
    "- https://en.wikipedia.org/wiki/Variance\n"
   ]
  }
 ],
 "metadata": {
  "kernelspec": {
   "display_name": "Python 3",
   "language": "python3",
   "name": "python3"
  },
  "language_info": {
   "name": "python",
   "version": "3.8"
  }
 },
 "nbformat": 4,
 "nbformat_minor": 2
}
