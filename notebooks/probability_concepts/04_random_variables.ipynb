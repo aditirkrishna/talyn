{
 "cells": [
  {
   "cell_type": "markdown",
   "metadata": {},
   "source": [
    "# Random Variables\n"
   ]
  },
  {
   "cell_type": "markdown",
   "metadata": {},
   "source": [
    "## Introduction\n",
    "A **random variable** is a function that assigns a real number to each outcome in a sample space. Random variables are used to quantify outcomes of random experiments and are central to probability theory and statistics.\n"
   ]
  },
  {
   "cell_type": "markdown",
   "metadata": {},
   "source": [
    "## Mathematical Explanation\n",
    "Let $X$ be a random variable defined on a sample space $\\Omega$.\n",
    "- **Discrete random variable:** Takes values in a countable set.\n",
    "- **Continuous random variable:** Takes values in an interval of real numbers.\n",
    "\n",
    "### Probability Mass Function (PMF)\n",
    "For discrete $X$, $P(X = x)$ is the probability mass function.\n",
    "\n",
    "### Probability Density Function (PDF)\n",
    "For continuous $X$, $f_X(x)$ is the probability density function, and $P(a \\leq X \\leq b) = \\int_a^b f_X(x) dx$.\n",
    "\n",
    "### Example\n",
    "Let $X$ be the outcome of a fair die roll. $X$ is a discrete random variable with $P(X = k) = 1/6$ for $k = 1,\\ldots,6$.\n"
   ]
  },
  {
   "cell_type": "code",
   "metadata": {},
   "execution_count": null,
   "outputs": [],
   "source": [
    "# Visualizing a discrete random variable (die roll)\n",
    "import matplotlib.pyplot as plt\n",
    "import numpy as np\n",
    "outcomes = np.arange(1, 7)\n",
    "pmf = np.ones(6) / 6\n",
    "plt.stem(outcomes, pmf, basefmt=\" \", use_line_collection=True)\n",
    "plt.xlabel('Value of X')\n",
    "plt.ylabel('P(X = x)')\n",
    "plt.title('PMF of a Fair Die')\n",
    "plt.ylim(0, 0.2)\n",
    "plt.show()\n"
   ]
  },
  {
   "cell_type": "code",
   "metadata": {},
   "execution_count": null,
   "outputs": [],
   "source": [
    "# Visualizing a continuous random variable (standard normal)\n",
    "from scipy.stats import norm\n",
    "x = np.linspace(-4, 4, 100)\n",
    "pdf = norm.pdf(x)\n",
    "plt.plot(x, pdf)\n",
    "plt.xlabel('x')\n",
    "plt.ylabel('f_X(x)')\n",
    "plt.title('PDF of Standard Normal Random Variable')\n",
    "plt.show()\n"
   ]
  },
  {
   "cell_type": "markdown",
   "metadata": {},
   "source": [
    "## Exercises\n",
    "1. Define a random variable for the sum of two dice. What is its PMF?\n",
    "2. What is the difference between a PMF and a PDF?\n",
    "3. Plot the PDF of the exponential distribution with $\\lambda=1$.\n",
    "4. Give an example of a continuous random variable in real life.\n"
   ]
  },
  {
   "cell_type": "markdown",
   "metadata": {},
   "source": [
    "## References\n",
    "- Sheldon Ross, *A First Course in Probability*\n",
    "- https://en.wikipedia.org/wiki/Random_variable\n",
    "- https://en.wikipedia.org/wiki/Probability_density_function\n"
   ]
  }
 ],
 "metadata": {
  "kernelspec": {
   "display_name": "Python 3",
   "language": "python3",
   "name": "python3"
  },
  "language_info": {
   "name": "python",
   "version": "3.8"
  }
 },
 "nbformat": 4,
 "nbformat_minor": 2
}
