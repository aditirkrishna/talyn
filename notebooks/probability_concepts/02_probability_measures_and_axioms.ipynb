{
 "cells": [
  {
   "cell_type": "markdown",
   "metadata": {},
   "source": [
    "# Probability Measures and Axioms\n"
   ]
  },
  {
   "cell_type": "markdown",
   "metadata": {},
   "source": [
    "## Introduction\n",
    "A **probability measure** assigns a number to each event in a sample space, quantifying the likelihood of that event. The rules that govern probability measures are called the **axioms of probability**. These axioms ensure that probability is mathematically consistent and meaningful.\n"
   ]
  },
  {
   "cell_type": "markdown",
   "metadata": {},
   "source": [
    "## Mathematical Explanation\n",
    "Let $(\\Omega, \\mathcal{F}, P)$ be a probability space, where:\n",
    "- $\\Omega$ is the sample space\n",
    "- $\\mathcal{F}$ is a collection of events (subsets of $\\Omega$)\n",
    "- $P$ is a probability measure\n",
    "\n",
    "### Kolmogorov's Axioms\n",
    "1. **Non-negativity:** For any event $A \\in \\mathcal{F}$, $P(A) \\geq 0$\n",
    "2. **Normalization:** $P(\\Omega) = 1$\n",
    "3. **Additivity:** For any sequence of disjoint events $A_1, A_2, \\ldots$ in $\\mathcal{F}$,\n",
    "   $$P\\left(\\bigcup_{i=1}^\\infty A_i\\right) = \\sum_{i=1}^\\infty P(A_i)$$\n",
    "\n",
    "### Example\n",
    "Suppose we roll a fair six-sided die.\n",
    "$\\Omega = \\{1,2,3,4,5,6\\}$\n",
    "Each outcome has probability $P(\\{i\\}) = 1/6$.\n",
    "For event $A = \\{2,4,6\\}$ (even numbers),\n",
    "$P(A) = P(\\{2\\}) + P(\\{4\\}) + P(\\{6\\}) = 1/6 + 1/6 + 1/6 = 1/2$\n"
   ]
  },
  {
   "cell_type": "code",
   "metadata": {},
   "execution_count": null,
   "outputs": [],
   "source": [
    "# Visualizing probability distribution for a fair die\n",
    "import matplotlib.pyplot as plt\n",
    "import numpy as np\n",
    "\n",
    "outcomes = np.arange(1, 7)\n",
    "probs = np.ones(6) / 6\n",
    "plt.bar(outcomes, probs, tick_label=outcomes)\n",
    "plt.xlabel('Outcome')\n",
    "plt.ylabel('Probability')\n",
    "plt.title('Probability Distribution of a Fair Die')\n",
    "plt.ylim(0, 0.2)\n",
    "plt.show()\n"
   ]
  },
  {
   "cell_type": "markdown",
   "metadata": {},
   "source": [
    "## Exercises\n",
    "1. State the three axioms of probability in your own words.\n",
    "2. If $\\Omega = \\{H, T\\}$ (coin toss), assign probabilities to each outcome and verify the axioms.\n",
    "3. For a deck of 52 cards, what is the probability of drawing a heart?\n",
    "4. If $A$ and $B$ are disjoint events with $P(A) = 0.3$ and $P(B) = 0.2$, what is $P(A \\cup B)$?\n"
   ]
  },
  {
   "cell_type": "markdown",
   "metadata": {},
   "source": [
    "## References\n",
    "- Sheldon Ross, *A First Course in Probability*\n",
    "- https://en.wikipedia.org/wiki/Probability_axioms\n",
    "- https://en.wikipedia.org/wiki/Probability_measure\n"
   ]
  }
 ],
 "metadata": {
  "kernelspec": {
   "display_name": "Python 3",
   "language": "python3",
   "name": "python3"
  },
  "language_info": {
   "name": "python",
   "version": "3.8"
  }
 },
 "nbformat": 4,
 "nbformat_minor": 2
}
