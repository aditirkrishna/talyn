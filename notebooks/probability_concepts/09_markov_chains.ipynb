{
 "cells": [
  {
   "cell_type": "markdown",
   "metadata": {},
   "source": [
    "# Markov Chains\n"
   ]
  },
  {
   "cell_type": "markdown",
   "metadata": {},
   "source": [
    "## Introduction\n",
    "A **Markov chain** is a stochastic process that undergoes transitions from one state to another in a state space, where the probability of each transition depends only on the current state. Markov chains are widely used in statistics, physics, economics, and machine learning.\n"
   ]
  },
  {
   "cell_type": "markdown",
   "metadata": {},
   "source": [
    "## Mathematical Explanation\n",
    "A Markov chain is defined by:\n",
    "- A set of states $S = \\{s_1, s_2, \\ldots, s_n\\}$\n",
    "- A transition matrix $P$ where $P_{ij} = P(X_{t+1} = s_j | X_t = s_i)$\n",
    "\n",
    "**Markov Property:**\n",
    "$$P(X_{t+1} = s_j | X_t = s_i, X_{t-1}, \\ldots, X_0) = P(X_{t+1} = s_j | X_t = s_i)$$\n",
    "\n",
    "### Example\n",
    "Consider a two-state Markov chain with states $A$ and $B$ and transition matrix:\n",
    "$$P = \\begin{pmatrix} 0.7 & 0.3 \\ 0.4 & 0.6 \\end{pmatrix}$$\n"
   ]
  },
  {
   "cell_type": "code",
   "metadata": {},
   "execution_count": null,
   "outputs": [],
   "source": [
    "# Simulating a simple Markov chain\n",
    "import numpy as np\n",
    "states = ['A', 'B']\n",
    "P = np.array([[0.7, 0.3], [0.4, 0.6]])\n",
    "n_steps = 20\n",
    "current = 0  # Start at state A\n",
    "chain = [states[current]]\n",
    "for _ in range(n_steps):\n    \tcurrent = np.random.choice([0, 1], p=P[current])\n    \tchain.append(states[current])\n",
    "print(' -> '.join(chain))\n"
   ]
  },
  {
   "cell_type": "markdown",
   "metadata": {},
   "source": [
    "## Exercises\n",
    "1. Write the transition matrix for a three-state Markov chain.\n",
    "2. Simulate a Markov chain with your own transition matrix.\n",
    "3. What is the stationary distribution of the example chain above?\n",
    "4. Explain the Markov property in your own words.\n"
   ]
  },
  {
   "cell_type": "markdown",
   "metadata": {},
   "source": [
    "## References\n",
    "- Sheldon Ross, *A First Course in Probability*\n",
    "- https://en.wikipedia.org/wiki/Markov_chain\n"
   ]
  }
 ],
 "metadata": {
  "kernelspec": {
   "display_name": "Python 3",
   "language": "python3",
   "name": "python3"
  },
  "language_info": {
   "name": "python",
   "version": "3.8"
  }
 },
 "nbformat": 4,
 "nbformat_minor": 2
}
