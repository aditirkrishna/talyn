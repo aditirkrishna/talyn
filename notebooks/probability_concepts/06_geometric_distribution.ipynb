{
 "cells": [
  {
   "cell_type": "markdown",
   "metadata": {},
   "source": [
    "# Geometric Distribution\n"
   ]
  },
  {
   "cell_type": "markdown",
   "metadata": {},
   "source": [
    "## Introduction\n",
    "The **geometric distribution** models the number of Bernoulli trials needed to get the first success. It is commonly used in reliability, quality control, and waiting time problems.\n"
   ]
  },
  {
   "cell_type": "markdown",
   "metadata": {},
   "source": [
    "## Mathematical Explanation\n",
    "A random variable $X$ has a geometric distribution with parameter $p$ if:\n",
    "$$P(X = k) = (1-p)^{k-1} p, \\quad k = 1, 2, 3, \\ldots$$\n",
    "where $0 < p \\leq 1$.\n",
    "\n",
    "- **Mean:** $\\mathbb{E}[X] = 1/p$\n",
    "- **Variance:** $\\mathrm{Var}(X) = (1-p)/p^2$\n",
    "\n",
    "### Example\n",
    "The number of coin tosses needed to get the first heads, with $p=0.5$.\n"
   ]
  },
  {
   "cell_type": "code",
   "metadata": {},
   "execution_count": null,
   "outputs": [],
   "source": [
    "# Visualizing the geometric distribution\n",
    "import numpy as np\n",
    "import matplotlib.pyplot as plt\n",
    "from scipy.stats import geom\n",
    "p = 0.5\n",
    "x = np.arange(1, 11)\n",
    "pmf = geom.pmf(x, p)\n",
    "plt.stem(x, pmf, basefmt=\" \", use_line_collection=True)\n",
    "plt.xlabel('Number of Trials (X)')\n",
    "plt.ylabel('Probability')\n",
    "plt.title(f'Geometric Distribution (p={p})')\n",
    "plt.show()\n"
   ]
  },
  {
   "cell_type": "markdown",
   "metadata": {},
   "source": [
    "## Exercises\n",
    "1. What is the mean and variance of a geometric($p=0.3$) random variable?\n",
    "2. Simulate 1000 geometric random variables with $p=0.2$ and plot the histogram.\n",
    "3. Give a real-world example modeled by a geometric distribution.\n",
    "4. How does the geometric distribution relate to the Bernoulli and binomial distributions?\n"
   ]
  },
  {
   "cell_type": "markdown",
   "metadata": {},
   "source": [
    "## References\n",
    "- Sheldon Ross, *A First Course in Probability*\n",
    "- https://en.wikipedia.org/wiki/Geometric_distribution\n"
   ]
  }
 ],
 "metadata": {
  "kernelspec": {
   "display_name": "Python 3",
   "language": "python3",
   "name": "python3"
  },
  "language_info": {
   "name": "python",
   "version": "3.8"
  }
 },
 "nbformat": 4,
 "nbformat_minor": 2
}
