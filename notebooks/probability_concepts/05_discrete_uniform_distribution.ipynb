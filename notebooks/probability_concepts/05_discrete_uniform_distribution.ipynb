{
 "cells": [
  {
   "cell_type": "markdown",
   "metadata": {},
   "source": [
    "# Discrete Uniform Distribution\n"
   ]
  },
  {
   "cell_type": "markdown",
   "metadata": {},
   "source": [
    "## Introduction\n",
    "The **discrete uniform distribution** assigns equal probability to each of a finite number of outcomes. It is one of the simplest probability distributions and is often used to model fair dice, coins, and lotteries.\n"
   ]
  },
  {
   "cell_type": "markdown",
   "metadata": {},
   "source": [
    "## Mathematical Explanation\n",
    "If $X$ is a discrete random variable taking values in $\\{x_1, x_2, \\ldots, x_n\\}$, then:\n",
    "$$P(X = x_i) = \\frac{1}{n}, \\quad i = 1, 2, \\ldots, n$$\n",
    "\n",
    "- **Mean:** $\\mathbb{E}[X] = \\frac{1}{n} \\sum_{i=1}^n x_i$\n",
    "- **Variance:** $\\mathrm{Var}(X) = \\frac{1}{n} \\sum_{i=1}^n (x_i - \\mathbb{E}[X])^2$\n",
    "\n",
    "### Example\n",
    "A fair six-sided die: $X \\in \\{1,2,3,4,5,6\\}$, $P(X = k) = 1/6$ for $k=1,\\ldots,6$.\n"
   ]
  },
  {
   "cell_type": "code",
   "metadata": {},
   "execution_count": null,
   "outputs": [],
   "source": [
    "# Visualizing the discrete uniform distribution (fair die)\n",
    "import numpy as np\n",
    "import matplotlib.pyplot as plt\n",
    "outcomes = np.arange(1, 7)\n",
    "probs = np.ones(6) / 6\n",
    "plt.bar(outcomes, probs, tick_label=outcomes)\n",
    "plt.xlabel('Outcome')\n",
    "plt.ylabel('Probability')\n",
    "plt.title('Discrete Uniform Distribution (Fair Die)')\n",
    "plt.ylim(0, 0.3)\n",
    "plt.show()\n"
   ]
  },
  {
   "cell_type": "markdown",
   "metadata": {},
   "source": [
    "## Exercises\n",
    "1. What is the mean and variance of a fair die roll?\n",
    "2. Simulate 1000 rolls of a fair die and plot the histogram.\n",
    "3. Give a real-world example of a discrete uniform distribution other than dice.\n",
    "4. How does the discrete uniform distribution differ from the continuous uniform distribution?\n"
   ]
  },
  {
   "cell_type": "markdown",
   "metadata": {},
   "source": [
    "## References\n",
    "- Sheldon Ross, *A First Course in Probability*\n",
    "- https://en.wikipedia.org/wiki/Discrete_uniform_distribution\n"
   ]
  }
 ],
 "metadata": {
  "kernelspec": {
   "display_name": "Python 3",
   "language": "python3",
   "name": "python3"
  },
  "language_info": {
   "name": "python",
   "version": "3.8"
  }
 },
 "nbformat": 4,
 "nbformat_minor": 2
}
