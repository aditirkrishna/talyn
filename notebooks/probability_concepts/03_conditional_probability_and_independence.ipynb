{
 "cells": [
  {
   "cell_type": "markdown",
   "metadata": {},
   "source": [
    "# Conditional Probability and Independence\n"
   ]
  },
  {
   "cell_type": "markdown",
   "metadata": {},
   "source": [
    "## Introduction\n",
    "Conditional probability quantifies the likelihood of an event given that another event has occurred. Independence describes situations where the occurrence of one event does not affect the probability of another. These concepts are fundamental in probability theory and are widely used in statistics, machine learning, and data science.\n"
   ]
  },
  {
   "cell_type": "markdown",
   "metadata": {},
   "source": [
    "## Mathematical Explanation\n",
    "### Conditional Probability\n",
    "The conditional probability of $A$ given $B$ is defined as:\n",
    "$$P(A|B) = \\frac{P(A \\cap B)}{P(B)}, \\quad P(B) > 0$$\n",
    "\n",
    "### Independence\n",
    "Events $A$ and $B$ are independent if:\n",
    "$$P(A \\cap B) = P(A)P(B)$$\n",
    "Equivalently, $P(A|B) = P(A)$ and $P(B|A) = P(B)$.\n",
    "\n",
    "### Example\n",
    "Suppose we roll a fair die. Let $A$ = \\{even\\}, $B$ = \\{>3\\}.\n",
    "$P(A) = 3/6 = 0.5$\n",
    "$P(B) = 3/6 = 0.5$\n",
    "$P(A \\cap B) = 2/6 = 1/3$\n",
    "$P(A|B) = (1/3)/(0.5) = 2/3$\n",
    "Since $P(A|B) \\neq P(A)$, $A$ and $B$ are not independent.\n"
   ]
  },
  {
   "cell_type": "code",
   "metadata": {},
   "execution_count": null,
   "outputs": [],
   "source": [
    "# Visualizing conditional probability with a Venn diagram\n",
    "import matplotlib.pyplot as plt\n",
    "from matplotlib_venn import venn2\n",
    "A = set([2, 4, 6])\n",
    "B = set([4, 5, 6])\n",
    "plt.figure(figsize=(6,4))\n",
    "venn2([A, B], set_labels=('A: Even', 'B: >3'))\n",
    "plt.title('Venn Diagram: Conditional Probability')\n",
    "plt.show()\n"
   ]
  },
  {
   "cell_type": "markdown",
   "metadata": {},
   "source": [
    "## Exercises\n",
    "1. If $P(A) = 0.4$, $P(B) = 0.5$, and $P(A \\cap B) = 0.2$, compute $P(A|B)$ and check if $A$ and $B$ are independent.\n",
    "2. In a deck of cards, what is the probability of drawing a heart given the card is red?\n",
    "3. Give an example of two independent events in a coin toss.\n",
    "4. For the die example above, compute $P(B|A)$.\n"
   ]
  },
  {
   "cell_type": "markdown",
   "metadata": {},
   "source": [
    "## References\n",
    "- Sheldon Ross, *A First Course in Probability*\n",
    "- https://en.wikipedia.org/wiki/Conditional_probability\n",
    "- https://en.wikipedia.org/wiki/Independence_(probability_theory)\n"
   ]
  }
 ],
 "metadata": {
  "kernelspec": {
   "display_name": "Python 3",
   "language": "python3",
   "name": "python3"
  },
  "language_info": {
   "name": "python",
   "version": "3.8"
  }
 },
 "nbformat": 4,
 "nbformat_minor": 2
}
