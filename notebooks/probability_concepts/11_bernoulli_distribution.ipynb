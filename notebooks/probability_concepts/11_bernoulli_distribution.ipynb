{
 "cells": [
  {
   "cell_type": "markdown",
   "metadata": {},
   "source": [
    "# Bernoulli Distribution\n"
   ]
  },
  {
   "cell_type": "markdown",
   "metadata": {},
   "source": [
    "## Introduction\n",
    "The **Bernoulli distribution** models a random experiment with exactly two possible outcomes: success (1) and failure (0). It is the simplest discrete probability distribution and forms the basis for more complex distributions like the binomial.\n"
   ]
  },
  {
   "cell_type": "markdown",
   "metadata": {},
   "source": [
    "## Mathematical Explanation\n",
    "A random variable $X$ has a Bernoulli distribution with parameter $p$ if:\n",
    "$$P(X = 1) = p, \\quad P(X = 0) = 1 - p$$\n",
    "where $0 \\leq p \\leq 1$.\n",
    "\n",
    "- **Mean:** $\\mathbb{E}[X] = p$\n",
    "- **Variance:** $\\mathrm{Var}(X) = p(1-p)$\n"
   ]
  },
  {
   "cell_type": "code",
   "metadata": {},
   "execution_count": null,
   "outputs": [],
   "source": [
    "# Visualizing the Bernoulli distribution\n",
    "import matplotlib.pyplot as plt\n",
    "p = 0.7\n",
    "outcomes = [0, 1]\n",
    "probs = [1-p, p]\n",
    "plt.bar(outcomes, probs, tick_label=['0 (Failure)', '1 (Success)'])\n",
    "plt.xlabel('Outcome')\n",
    "plt.ylabel('Probability')\n",
    "plt.title(f'Bernoulli Distribution (p={p})')\n",
    "plt.ylim(0, 1)\n",
    "plt.show()\n"
   ]
  },
  {
   "cell_type": "markdown",
   "metadata": {},
   "source": [
    "## Exercises\n",
    "1. What is the mean and variance of a Bernoulli($p=0.3$) random variable?\n",
    "2. Simulate 1000 Bernoulli trials with $p=0.5$ and plot the proportion of successes.\n",
    "3. How does the Bernoulli distribution relate to the binomial distribution?\n",
    "4. Give a real-world example of a Bernoulli trial.\n"
   ]
  },
  {
   "cell_type": "markdown",
   "metadata": {},
   "source": [
    "## References\n",
    "- Sheldon Ross, *A First Course in Probability*\n",
    "- https://en.wikipedia.org/wiki/Bernoulli_distribution\n"
   ]
  }
 ],
 "metadata": {
  "kernelspec": {
   "display_name": "Python 3",
   "language": "python3",
   "name": "python3"
  },
  "language_info": {
   "name": "python",
   "version": "3.8"
  }
 },
 "nbformat": 4,
 "nbformat_minor": 2
}
