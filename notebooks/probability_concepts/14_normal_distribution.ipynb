{
 "cells": [
  {
   "cell_type": "markdown",
   "metadata": {},
   "source": [
    "# Normal Distribution\n"
   ]
  },
  {
   "cell_type": "markdown",
   "metadata": {},
   "source": [
    "## Introduction\n",
    "The **normal distribution** (or Gaussian distribution) is a continuous probability distribution that is symmetric about its mean. It is fundamental in probability and statistics due to the Central Limit Theorem and its prevalence in natural and social phenomena.\n"
   ]
  },
  {
   "cell_type": "markdown",
   "metadata": {},
   "source": [
    "## Mathematical Explanation\n",
    "A random variable $X$ has a normal distribution with mean $\\mu$ and variance $\\sigma^2$ if:\n",
    "$$f_X(x) = \\frac{1}{\\sqrt{2\\pi\\sigma^2}} \\exp\\left(-\\frac{(x-\\mu)^2}{2\\sigma^2}\\right)$$\n",
    "for $x \\in \\mathbb{R}$.\n",
    "\n",
    "- **Mean:** $\\mathbb{E}[X] = \\mu$\n",
    "- **Variance:** $\\mathrm{Var}(X) = \\sigma^2$\n"
   ]
  },
  {
   "cell_type": "code",
   "metadata": {},
   "execution_count": null,
   "outputs": [],
   "source": [
    "# Visualizing the Normal distribution\n",
    "import numpy as np\n",
    "import matplotlib.pyplot as plt\n",
    "from scipy.stats import norm\n",
    "mu, sigma = 0, 1\n",
    "x = np.linspace(-4, 4, 100)\n",
    "pdf = norm.pdf(x, mu, sigma)\n",
    "plt.plot(x, pdf)\n",
    "plt.xlabel('x')\n",
    "plt.ylabel('Density')\n",
    "plt.title('Normal Distribution (mu=0, sigma=1)')\n",
    "plt.show()\n"
   ]
  },
  {
   "cell_type": "markdown",
   "metadata": {},
   "source": [
    "## Exercises\n",
    "1. What is the mean and variance of a normal($\\mu=2$, $\\sigma^2=4$) random variable?\n",
    "2. Simulate 1000 normal random variables with $\\mu=0$, $\\sigma=2$ and plot the histogram.\n",
    "3. Why is the normal distribution so important in statistics?\n",
    "4. Give a real-world example modeled by a normal distribution.\n"
   ]
  },
  {
   "cell_type": "markdown",
   "metadata": {},
   "source": [
    "## References\n",
    "- Sheldon Ross, *A First Course in Probability*\n",
    "- https://en.wikipedia.org/wiki/Normal_distribution\n"
   ]
  }
 ],
 "metadata": {
  "kernelspec": {
   "display_name": "Python 3",
   "language": "python3",
   "name": "python3"
  },
  "language_info": {
   "name": "python",
   "version": "3.8"
  }
 },
 "nbformat": 4,
 "nbformat_minor": 2
}
