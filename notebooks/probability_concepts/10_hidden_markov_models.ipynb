{
 "cells": [
  {
   "cell_type": "markdown",
   "metadata": {},
   "source": [
    "# Hidden Markov Models (HMMs)\n"
   ]
  },
  {
   "cell_type": "markdown",
   "metadata": {},
   "source": [
    "## Introduction\n",
    "A **Hidden Markov Model (HMM)** is a statistical model where the system being modeled is assumed to be a Markov process with unobserved (hidden) states. HMMs are widely used in time series analysis, speech recognition, bioinformatics, and more.\n"
   ]
  },
  {
   "cell_type": "markdown",
   "metadata": {},
   "source": [
    "## Mathematical Explanation\n",
    "An HMM consists of:\n",
    "- A set of hidden states $S = \\{s_1, \\ldots, s_N\\}$\n",
    "- A set of observations $O = \\{o_1, \\ldots, o_M\\}$\n",
    "- Initial state distribution $\\pi$\n",
    "- State transition matrix $A$ where $A_{ij} = P(s_j | s_i)$\n",
    "- Emission matrix $B$ where $B_{jk} = P(o_k | s_j)$\n",
    "\n",
    "The joint probability of a sequence of states $Q = (q_1, \\ldots, q_T)$ and observations $O = (o_1, \\ldots, o_T)$ is:\n",
    "$$P(Q, O) = \\pi_{q_1} B_{q_1 o_1} \\prod_{t=2}^T A_{q_{t-1} q_t} B_{q_t o_t}$$\n",
    "\n",
    "### Example\n",
    "Suppose we have two hidden states (Rainy, Sunny) and two observations (Walk, Shop). The HMM can model the probability of observing a sequence of activities given the weather.\n"
   ]
  },
  {
   "cell_type": "code",
   "metadata": {},
   "execution_count": null,
   "outputs": [],
   "source": [
    "# Simulating a simple HMM sequence\n",
    "import numpy as np\n",
    "states = ['Rainy', 'Sunny']\n",
    "observations = ['Walk', 'Shop']\n",
    "A = np.array([[0.7, 0.3], [0.4, 0.6]])  # Transition\n",
    "B = np.array([[0.6, 0.4], [0.3, 0.7]])  # Emission\n",
    "pi = np.array([0.6, 0.4])\n",
    "n_steps = 10\n",
    "hidden = [np.random.choice([0, 1], p=pi)]\n",
    "obs = [np.random.choice([0, 1], p=B[hidden[0]])]\n",
    "for _ in range(1, n_steps):\n    \thidden.append(np.random.choice([0, 1], p=A[hidden[-1]]))\n    \tobs.append(np.random.choice([0, 1], p=B[hidden[-1]]))\n",
    "print('Hidden states:', [states[i] for i in hidden])\n",
    "print('Observations:', [observations[i] for i in obs])\n"
   ]
  },
  {
   "cell_type": "markdown",
   "metadata": {},
   "source": [
    "## Exercises\n",
    "1. Write down the joint probability of a sequence of states and observations for a 3-state HMM.\n",
    "2. Simulate an HMM with your own transition and emission matrices.\n",
    "3. What is the difference between a Markov chain and an HMM?\n",
    "4. Give a real-world example where HMMs are useful.\n"
   ]
  },
  {
   "cell_type": "markdown",
   "metadata": {},
   "source": [
    "## References\n",
    "- Lawrence Rabiner, \"A Tutorial on Hidden Markov Models and Selected Applications in Speech Recognition\"\n",
    "- https://en.wikipedia.org/wiki/Hidden_Markov_model\n"
   ]
  }
 ],
 "metadata": {
  "kernelspec": {
   "display_name": "Python 3",
   "language": "python3",
   "name": "python3"
  },
  "language_info": {
   "name": "python",
   "version": "3.8"
  }
 },
 "nbformat": 4,
 "nbformat_minor": 2
}
