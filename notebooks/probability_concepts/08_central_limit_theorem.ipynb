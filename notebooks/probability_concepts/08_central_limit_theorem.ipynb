{
 "cells": [
  {
   "cell_type": "markdown",
   "metadata": {},
   "source": [
    "# Central Limit Theorem\n"
   ]
  },
  {
   "cell_type": "markdown",
   "metadata": {},
   "source": [
    "## Introduction\n",
    "The **Central Limit Theorem (CLT)** is a cornerstone of probability and statistics. It states that the sum (or average) of a large number of independent, identically distributed random variables tends toward a normal distribution, regardless of the original distribution.\n"
   ]
  },
  {
   "cell_type": "markdown",
   "metadata": {},
   "source": [
    "## Mathematical Explanation\n",
    "Let $X_1, X_2, \\ldots, X_n$ be i.i.d. random variables with mean $\\mu$ and variance $\\sigma^2$.\n",
    "The standardized sum is:\n",
    "$$Z_n = \\frac{\\sum_{i=1}^n X_i - n\\mu}{\\sigma\\sqrt{n}}$$\n",
    "As $n \\to \\infty$, $Z_n$ converges in distribution to a standard normal $N(0,1)$.\n",
    "\n",
    "### Example\n",
    "Simulate the sum of uniform random variables and observe the distribution as $n$ increases.\n"
   ]
  },
  {
   "cell_type": "code",
   "metadata": {},
   "execution_count": null,
   "outputs": [],
   "source": [
    "# Simulating the Central Limit Theorem\n",
    "import numpy as np\n",
    "import matplotlib.pyplot as plt\n",
    "from scipy.stats import norm\n",
    "n = 1000\n",
    "sample_size = 30\n",
    "samples = np.random.uniform(0, 1, (n, sample_size))\n",
    "sample_means = samples.mean(axis=1)\n",
    "plt.hist(sample_means, bins=30, density=True, alpha=0.6, label='Sample Means')\n",
    "x = np.linspace(0, 1, 100)\n",
    "plt.plot(x, norm.pdf(x, loc=0.5, scale=1/np.sqrt(12*sample_size)), label='Normal PDF')\n",
    "plt.xlabel('Sample Mean')\n",
    "plt.ylabel('Density')\n",
    "plt.title('Central Limit Theorem: Uniform Samples')\n",
    "plt.legend()\n",
    "plt.show()\n"
   ]
  },
  {
   "cell_type": "markdown",
   "metadata": {},
   "source": [
    "## Exercises\n",
    "1. Simulate the CLT using binomial random variables.\n",
    "2. What happens to the shape of the histogram as the sample size increases?\n",
    "3. Why is the CLT important in statistics?\n",
    "4. Give an example of the CLT in real-world data analysis.\n"
   ]
  },
  {
   "cell_type": "markdown",
   "metadata": {},
   "source": [
    "## References\n",
    "- Sheldon Ross, *A First Course in Probability*\n",
    "- https://en.wikipedia.org/wiki/Central_limit_theorem\n"
   ]
  }
 ],
 "metadata": {
  "kernelspec": {
   "display_name": "Python 3",
   "language": "python3",
   "name": "python3"
  },
  "language_info": {
   "name": "python",
   "version": "3.8"
  }
 },
 "nbformat": 4,
 "nbformat_minor": 2
}
