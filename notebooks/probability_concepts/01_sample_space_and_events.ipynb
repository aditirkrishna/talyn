{
 "cells": [
  {
   "cell_type": "markdown",
   "metadata": {},
   "source": [
    "# Sample Space and Events\n"
   ]
  },
  {
   "cell_type": "markdown",
   "metadata": {},
   "source": [
    "## Introduction\n",
    "In probability theory, the **sample space** is the set of all possible outcomes of a random experiment. An **event** is any subset of the sample space. Understanding these foundational concepts is crucial for studying probability, as they form the basis for defining probabilities and reasoning about random phenomena.\n"
   ]
  },
  {
   "cell_type": "markdown",
   "metadata": {},
   "source": [
    "## Mathematical Explanation\n",
    "Let $\\Omega$ denote the sample space. For example, when tossing a fair coin, $\\Omega = \\{H, T\\}$, where $H$ is heads and $T$ is tails.\n",
    "\n",
    "An **event** $A$ is a subset of $\\Omega$. For example, $A = \\{H\\}$ is the event that the coin lands heads.\n",
    "\n",
    "### Set Notation\n",
    "- $A \\cup B$: Event $A$ or $B$ occurs (union)\n",
    "- $A \\cap B$: Both $A$ and $B$ occur (intersection)\n",
    "- $A^c$: Event $A$ does not occur (complement)\n",
    "\n",
    "### Example\n",
    "Suppose we roll a six-sided die.\n",
    "$\\Omega = \\{1, 2, 3, 4, 5, 6\\}$\n",
    "Let $A$ = {even numbers} = $\\{2, 4, 6\\}$\n",
    "Let $B$ = {numbers greater than 3} = $\\{4, 5, 6\\}$\n",
    "\n",
    "$A \\cap B = \\{4, 6\\}$\n",
    "$A \\cup B = \\{2, 4, 5, 6\\}$\n"
   ]
  },
  {
   "cell_type": "code",
   "metadata": {},
   "execution_count": null,
   "outputs": [],
   "source": [
    "# Visualizing events with a Venn diagram\n",
    "import matplotlib.pyplot as plt\n",
    "from matplotlib_venn import venn2\n",
    "\n",
    "A = set([2, 4, 6])\n",
    "B = set([4, 5, 6])\n",
    "plt.figure(figsize=(6,4))\n",
    "venn2([A, B], set_labels=('A: Even Numbers', 'B: >3'))\n",
    "plt.title('Venn Diagram of Events A and B')\n",
    "plt.show()\n"
   ]
  },
  {
   "cell_type": "markdown",
   "metadata": {},
   "source": [
    "## Exercises\n",
    "1. List the sample space for tossing two coins.\n",
    "2. If $\\Omega = \\{1,2,3,4,5,6\\}$ (a die roll), what is the event $C$ that the outcome is less than 4?\n",
    "3. For the die roll, what is $A \\cap C$ if $A = \\{2,4,6\\}$ and $C$ as above?\n",
    "4. Draw a Venn diagram for events $A$ and $C$.\n"
   ]
  },
  {
   "cell_type": "markdown",
   "metadata": {},
   "source": [
    "## References\n",
    "- Sheldon Ross, *A First Course in Probability*\n",
    "- https://en.wikipedia.org/wiki/Sample_space\n",
    "- https://en.wikipedia.org/wiki/Event_(probability_theory)\n"
   ]
  }
 ],
 "metadata": {
  "kernelspec": {
   "display_name": "Python 3",
   "language": "python",
   "name": "python3"
  },
  "language_info": {
   "name": "python",
   "version": "3.8"
  }
 },
 "nbformat": 4,
 "nbformat_minor": 2
}
