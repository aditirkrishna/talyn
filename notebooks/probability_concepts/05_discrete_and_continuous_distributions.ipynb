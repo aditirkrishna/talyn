{
 "cells": [
  {
   "cell_type": "markdown",
   "metadata": {},
   "source": [
    "# Discrete and Continuous Distributions\n"
   ]
  },
  {
   "cell_type": "markdown",
   "metadata": {},
   "source": [
    "## Introduction\n",
    "Probability distributions describe how probabilities are assigned to the possible values of a random variable. Discrete distributions are used for random variables with countable outcomes, while continuous distributions are used for variables with uncountably infinite outcomes.\n"
   ]
  },
  {
   "cell_type": "markdown",
   "metadata": {},
   "source": [
    "## Mathematical Explanation\n",
    "### Discrete Distributions\n",
    "- **Bernoulli:** $P(X=1)=p$, $P(X=0)=1-p$\n",
    "- **Binomial:** $P(X=k) = \\binom{n}{k}p^k(1-p)^{n-k}$\n",
    "- **Poisson:** $P(X=k) = \\frac{\\lambda^k e^{-\\lambda}}{k!}$\n",
    "\n",
    "### Continuous Distributions\n",
    "- **Uniform:** $f_X(x) = \\frac{1}{b-a}$ for $a \\leq x \\leq b$\n",
    "- **Normal:** $f_X(x) = \\frac{1}{\\sqrt{2\\pi\\sigma^2}}\\exp\\left(-\\frac{(x-\\mu)^2}{2\\sigma^2}\\right)$\n",
    "- **Exponential:** $f_X(x) = \\lambda e^{-\\lambda x}$ for $x \\geq 0$\n",
    "\n",
    "### Example\n",
    "Let $X$ be the number of heads in 10 coin tosses. $X \\sim \\text{Binomial}(n=10, p=0.5)$.\n"
   ]
  },
  {
   "cell_type": "code",
   "metadata": {},
   "execution_count": null,
   "outputs": [],
   "source": [
    "# Visualizing Binomial and Normal Distributions\n",
    "import numpy as np\n",
    "import matplotlib.pyplot as plt\n",
    "from scipy.stats import binom, norm\n",
    "n, p = 10, 0.5\n",
    "x_binom = np.arange(0, n+1)\n",
    "pmf_binom = binom.pmf(x_binom, n, p)\n",
    "plt.stem(x_binom, pmf_binom, basefmt=\" \", use_line_collection=True, label='Binomial PMF')\n",
    "x_norm = np.linspace(-4, 4, 100)\n",
    "pdf_norm = norm.pdf(x_norm)\n",
    "plt.plot(x_norm, pdf_norm, label='Normal PDF')\n",
    "plt.xlabel('x')\n",
    "plt.ylabel('Probability / Density')\n",
    "plt.title('Binomial (Discrete) and Normal (Continuous) Distributions')\n",
    "plt.legend()\n",
    "plt.show()\n"
   ]
  },
  {
   "cell_type": "markdown",
   "metadata": {},
   "source": [
    "## Exercises\n",
    "1. Write the PMF of the Poisson distribution and plot it for $\\lambda=3$.\n",
    "2. Plot the PDF of the exponential distribution for $\\lambda=2$.\n",
    "3. What is the difference between a discrete and a continuous distribution?\n",
    "4. Give an example of a real-world phenomenon modeled by a normal distribution.\n"
   ]
  },
  {
   "cell_type": "markdown",
   "metadata": {},
   "source": [
    "## References\n",
    "- Sheldon Ross, *A First Course in Probability*\n",
    "- https://en.wikipedia.org/wiki/Probability_distribution\n",
    "- https://en.wikipedia.org/wiki/List_of_probability_distributions\n"
   ]
  }
 ],
 "metadata": {
  "kernelspec": {
   "display_name": "Python 3",
   "language": "python3",
   "name": "python3"
  },
  "language_info": {
   "name": "python",
   "version": "3.8"
  }
 },
 "nbformat": 4,
 "nbformat_minor": 2
}
