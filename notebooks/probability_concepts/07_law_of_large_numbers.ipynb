{
 "cells": [
  {
   "cell_type": "markdown",
   "metadata": {},
   "source": [
    "# Law of Large Numbers\n"
   ]
  },
  {
   "cell_type": "markdown",
   "metadata": {},
   "source": [
    "## Introduction\n",
    "The **Law of Large Numbers (LLN)** states that as the number of independent repetitions of a random experiment increases, the sample average converges to the expected value. This is a foundational result in probability and statistics, justifying the use of averages in data analysis.\n"
   ]
  },
  {
   "cell_type": "markdown",
   "metadata": {},
   "source": [
    "## Mathematical Explanation\n",
    "Let $X_1, X_2, \\ldots, X_n$ be independent, identically distributed random variables with $\\mathbb{E}[X_i] = \\mu$.\n",
    "The sample mean is $\\overline{X}_n = \\frac{1}{n}\\sum_{i=1}^n X_i$.\n",
    "\n",
    "**Weak Law of Large Numbers:**\n",
    "$$\\lim_{n \\to \\infty} P\\left(\\left|\\overline{X}_n - \\mu\\right| > \\epsilon\\right) = 0$$ for any $\\epsilon > 0$.\n",
    "\n",
    "### Example\n",
    "Simulate repeated coin tosses and observe the convergence of the sample mean to the expected value.\n"
   ]
  },
  {
   "cell_type": "code",
   "metadata": {},
   "execution_count": null,
   "outputs": [],
   "source": [
    "# Simulating the Law of Large Numbers with coin tosses\n",
    "import numpy as np\n",
    "import matplotlib.pyplot as plt\n",
    "n = 1000\n",
    "coin_tosses = np.random.binomial(1, 0.5, n)\n",
    "sample_means = np.cumsum(coin_tosses) / np.arange(1, n+1)\n",
    "plt.plot(sample_means, label='Sample Mean')\n",
    "plt.axhline(0.5, color='red', linestyle='--', label='True Mean')\n",
    "plt.xlabel('Number of Tosses')\n",
    "plt.ylabel('Sample Mean')\n",
    "plt.title('Law of Large Numbers: Coin Toss')\n",
    "plt.legend()\n",
    "plt.show()\n"
   ]
  },
  {
   "cell_type": "markdown",
   "metadata": {},
   "source": [
    "## Exercises\n",
    "1. Simulate the sample mean of rolling a die 1000 times. Plot the convergence.\n",
    "2. Explain the difference between the weak and strong law of large numbers.\n",
    "3. Why is the law of large numbers important in statistics?\n",
    "4. What happens if the random variables are not identically distributed?\n"
   ]
  },
  {
   "cell_type": "markdown",
   "metadata": {},
   "source": [
    "## References\n",
    "- Sheldon Ross, *A First Course in Probability*\n",
    "- https://en.wikipedia.org/wiki/Law_of_large_numbers\n"
   ]
  }
 ],
 "metadata": {
  "kernelspec": {
   "display_name": "Python 3",
   "language": "python3",
   "name": "python3"
  },
  "language_info": {
   "name": "python",
   "version": "3.8"
  }
 },
 "nbformat": 4,
 "nbformat_minor": 2
}
