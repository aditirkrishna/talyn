{
 "cells": [
  {
   "cell_type": "markdown",
   "metadata": {},
   "source": [
    "# Getting Started with Talyn\n",
    "\n",
    "Welcome to **Talyn** — a first-principles simulation kernel for probabilistic modeling and inference. This notebook will guide you through installation, philosophy, a simple hello-world example, and the basics of using Talyn.\n"
   ]
  },
  {
   "cell_type": "markdown",
   "metadata": {},
   "source": [
    "## Installation\n",
    "\n",
    "You can install Talyn using pip. Make sure you have Python 3.8+ installed.\n",
    "\n",
    "```bash\n",
    "pip install talyn\n",
    "```\n",
    "\n",
    "Or, if you are developing locally, clone the repository and install dependencies:\n",
    "\n",
    "```bash\n",
    "git clone https://github.com/your-org/talyn.git\n",
    "cd talyn\n",
    "pip install -e .\n",
    "```\n",
    "\n",
    "Talyn also provides a CLI. You can check the CLI path and version with:\n",
    "\n",
    "```bash\n",
    "talyn --version\n",
    "which talyn\n",
    "```\n"
   ]
  },
  {
   "cell_type": "markdown",
   "metadata": {},
   "source": [
    "## Philosophy\n",
    "\n",
    "Talyn is **simulation-native**: models are specified as generative processes, not as static graphs. There are no abstraction layers between your model and the simulation kernel. This means:\n",
    "\n",
    "- You write models as code, not as configuration.\n",
    "- Every sample is a real execution trace.\n",
    "- You have full control over randomness, seeding, and execution.\n",
    "\n",
    "Talyn is designed for transparency, composability, and first-principles understanding.\n"
   ]
  },
  {
   "cell_type": "markdown",
   "metadata": {},
   "source": [
    "## Hello World: Flipping a Biased Coin\n",
    "\n",
    "Let's define and simulate a simple biased coin flip using Talyn.\n"
   ]
  },
  {
   "cell_type": "code",
   "metadata": {},
   "execution_count": null,
   "outputs": [],
   "source": [
    "from talyn.distributions import Bernoulli\n",
    "import numpy as np\n",
    "\n",
    "# Define a biased coin with probability p=0.7 of heads\n",
    "p = 0.7\n",
    "coin = Bernoulli(p)\n",
    "\n",
    "# Simulate 10 flips\n",
    "flips = [coin.sample() for _ in range(10)]\n",
    "print('Coin flips:', flips)\n"
   ]
  },
  {
   "cell_type": "markdown",
   "metadata": {},
   "source": [
    "## CLI Usage Example\n",
    "\n",
    "Talyn supports running models from YAML files via the CLI. For example, to simulate a coin flip model defined in `coin.yaml`:\n",
    "\n",
    "```yaml\n",
    "model:\n",
    "  coin: Bernoulli(p=0.7)\n",
    "\n",
    "simulate: coin\n",
    "```\n",
    "\n",
    "You can run this model with:\n",
    "\n",
    "```bash\n",
    "talyn simulate coin.yaml\n",
    "```\n"
   ]
  },
  {
   "cell_type": "markdown",
   "metadata": {},
   "source": [
    "## Model File Structure\n",
    "\n",
    "A typical Talyn model file (YAML or Python) defines variables, their distributions, and simulation instructions.\n",
    "\n",
    "- **model**: The generative process (random variables and their dependencies)\n",
    "- **simulate**: What to simulate or observe\n",
    "\n",
    "You can also write models as Python scripts for more flexibility.\n"
   ]
  },
  {
   "cell_type": "markdown",
   "metadata": {},
   "source": [
    "## Trace Object Walkthrough\n",
    "\n",
    "When you run a simulation, Talyn produces a **trace object** that records all random choices. Let's inspect a trace from our coin flip example.\n"
   ]
  },
  {
   "cell_type": "code",
   "metadata": {},
   "execution_count": null,
   "outputs": [],
   "source": [
    "from talyn.ppl.tiny_ppl import Trace\n",
    "\n",
    "trace = Trace()\n",
    "for i in range(10):\n",
    "    result = coin.sample(trace=trace)\n",
    "    print(f'Flip {i+1}:', result)\n",
    "\n",
    "# Show the trace object\n",
    "print('Trace:', trace)\n"
   ]
  },
  {
   "cell_type": "markdown",
   "metadata": {},
   "source": [
    "---\n",
    "\n",
    "You are now ready to explore more advanced probabilistic models with Talyn! Continue to the next notebook for primitive distributions.\n"
   ]
  }
 ],
 "metadata": {
  "kernelspec": {
   "display_name": "Python 3",
   "language": "python",
   "name": "python3"
  },
  "language_info": {
   "name": "python",
   "version": "3.8"
  }
 },
 "nbformat": 4,
 "nbformat_minor": 5
}
