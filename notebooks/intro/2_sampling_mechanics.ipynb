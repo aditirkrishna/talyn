{
 "cells": [
  {
   "cell_type": "markdown",
   "metadata": {},
   "source": [
    "# Sampling Mechanics in Talyn\n",
    "\n",
    "This notebook explains how sampling works in Talyn, including determinism, seeding, reproducibility, and variable independence.\n"
   ]
  },
  {
   "cell_type": "markdown",
   "metadata": {},
   "source": [
    "## 1. Seeding with Fixed RNG State\n",
    "\n",
    "Talyn allows you to control the random number generator (RNG) state for reproducible results.\n"
   ]
  },
  {
   "cell_type": "code",
   "metadata": {},
   "execution_count": null,
   "outputs": [],
   "source": [
    "from talyn.rng.xorshift import XorShift\n",
    "from talyn.distributions import Normal\n",
    "\n",
    "seed = 42\n",
    "rng = XorShift(seed)\n",
    "normal = Normal(0, 1)\n",
    "samples1 = [normal.sample(rng=rng) for _ in range(5)]\n",
    "# Reset RNG\n",
    "rng = XorShift(seed)\n",
    "samples2 = [normal.sample(rng=rng) for _ in range(5)]\n",
    "print('First run:', samples1)\n",
    "print('Second run (same seed):', samples2)\n"
   ]
  },
  {
   "cell_type": "markdown",
   "metadata": {},
   "source": [
    "## 2. Sample Reproducibility\n",
    "\n",
    "With the same seed, Talyn produces identical samples. This is essential for debugging and scientific reproducibility.\n"
   ]
  },
  {
   "cell_type": "markdown",
   "metadata": {},
   "source": [
    "## 3. Independence of Variables\n",
    "\n",
    "Independent random variables should not affect each other's samples.\n"
   ]
  },
  {
   "cell_type": "code",
   "metadata": {},
   "execution_count": null,
   "outputs": [],
   "source": [
    "rng = XorShift(123)\n",
    "a = Normal(0, 1)\n",
    "b = Normal(10, 1)\n",
    "a_samples = [a.sample(rng=rng) for _ in range(3)]\n",
    "b_samples = [b.sample(rng=rng) for _ in range(3)]\n",
    "print('a samples:', a_samples)\n",
    "print('b samples:', b_samples)\n"
   ]
  },
  {
   "cell_type": "markdown",
   "metadata": {},
   "source": [
    "## 4. Variable Reuse Across Scopes\n",
    "\n",
    "Talyn supports reusing variables in different scopes. This is useful for hierarchical and compositional models.\n"
   ]
  },
  {
   "cell_type": "code",
   "metadata": {},
   "execution_count": null,
   "outputs": [],
   "source": [
    "def model(rng):\n",
    "    mu = Normal(0, 1).sample(rng=rng)\n",
    "    x = Normal(mu, 1).sample(rng=rng)\n",
    "    return mu, x\n",
    "\n",
    "rng = XorShift(2023)\n",
    "print('Sampled (mu, x):', model(rng))\n"
   ]
  },
  {
   "cell_type": "markdown",
   "metadata": {},
   "source": [
    "## 5. Visualizing Sample Graph Evolution\n",
    "\n",
    "Let's visualize how the sample graph evolves as we sample variables.\n"
   ]
  },
  {
   "cell_type": "code",
   "metadata": {},
   "execution_count": null,
   "outputs": [],
   "source": [
    "import networkx as nx\n",
    "import matplotlib.pyplot as plt\n",
    "G = nx.DiGraph()\n",
    "G.add_edge('rng', 'mu')\n",
    "G.add_edge('mu', 'x')\n",
    "pos = nx.spring_layout(G)\n",
    "nx.draw(G, pos, with_labels=True, node_color='lightblue', node_size=2000, font_size=12)\n",
    "plt.title('Sample Graph Evolution', fontsize=14)\n",
    "plt.show()\n"
   ]
  },
  {
   "cell_type": "markdown",
   "metadata": {},
   "source": [
    "---\n",
    "\n",
    "This notebook explained Talyn's sampling mechanics. Next, we'll explore random function composition.\n"
   ]
  }
 ],
 "metadata": {
  "kernelspec": {
   "display_name": "Python 3",
   "language": "python",
   "name": "python3"
  },
  "language_info": {
   "name": "python",
   "version": "3.8"
  }
 },
 "nbformat": 4,
 "nbformat_minor": 5
}
