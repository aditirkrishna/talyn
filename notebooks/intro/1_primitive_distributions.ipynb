{
 "cells": [
  {
   "cell_type": "markdown",
   "metadata": {},
   "source": [
    "# Primitive Distributions in Talyn\n",
    "\n",
    "This notebook demonstrates how to define and sample from core probability distributions in Talyn. We'll cover Uniform, Bernoulli, Normal, Beta, and Exponential distributions, compare empirical and theoretical statistics, and visualize results.\n"
   ]
  },
  {
   "cell_type": "markdown",
   "metadata": {},
   "source": [
    "## 1. Uniform Distribution\n",
    "\n",
    "The Uniform distribution assigns equal probability to all values in an interval.\n"
   ]
  },
  {
   "cell_type": "code",
   "metadata": {},
   "execution_count": null,
   "outputs": [],
   "source": [
    "from talyn.distributions import Uniform\n",
    "import numpy as np\n",
    "import matplotlib.pyplot as plt\n",
    "\n",
    "a, b = 0, 1\n",
    "uniform = Uniform(a, b)\n",
    "samples = [uniform.sample() for _ in range(1000)]\n",
    "plt.hist(samples, bins=30, density=True, alpha=0.7, color='skyblue')\n",
    "plt.title('Uniform[0,1] Samples', fontsize=14)\n",
    "plt.xlabel('Value', fontsize=12)\n",
    "plt.ylabel('Density', fontsize=12)\n",
    "plt.show()\n",
    "print('Empirical mean:', np.mean(samples))\n",
    "print('Theoretical mean:', (a+b)/2)\n"
   ]
  },
  {
   "cell_type": "markdown",
   "metadata": {},
   "source": [
    "## 2. Bernoulli Distribution\n",
    "\n",
    "The Bernoulli distribution models a binary outcome (success/failure).\n"
   ]
  },
  {
   "cell_type": "code",
   "metadata": {},
   "execution_count": null,
   "outputs": [],
   "source": [
    "from talyn.distributions import Bernoulli\n",
    "p = 0.3\n",
    "bernoulli = Bernoulli(p)\n",
    "samples = [bernoulli.sample() for _ in range(1000)]\n",
    "plt.hist(samples, bins=2, rwidth=0.7, color='orange')\n",
    "plt.title('Bernoulli(p=0.3) Samples', fontsize=14)\n",
    "plt.xlabel('Outcome', fontsize=12)\n",
    "plt.ylabel('Count', fontsize=12)\n",
    "plt.xticks([0,1])\n",
    "plt.show()\n",
    "print('Empirical mean:', np.mean(samples))\n",
    "print('Theoretical mean:', p)\n"
   ]
  },
  {
   "cell_type": "markdown",
   "metadata": {},
   "source": [
    "## 3. Normal (Gaussian) Distribution\n",
    "\n",
    "The Normal distribution is parameterized by mean $\\mu$ and standard deviation $\\sigma$.\n"
   ]
  },
  {
   "cell_type": "code",
   "metadata": {},
   "execution_count": null,
   "outputs": [],
   "source": [
    "from talyn.distributions import Normal\n",
    "mu, sigma = 0, 1\n",
    "normal = Normal(mu, sigma)\n",
    "samples = [normal.sample() for _ in range(1000)]\n",
    "plt.hist(samples, bins=30, density=True, alpha=0.7, color='green')\n",
    "plt.title('Normal(0,1) Samples', fontsize=14)\n",
    "plt.xlabel('Value', fontsize=12)\n",
    "plt.ylabel('Density', fontsize=12)\n",
    "plt.show()\n",
    "print('Empirical mean:', np.mean(samples))\n",
    "print('Theoretical mean:', mu)\n",
    "print('Empirical variance:', np.var(samples))\n",
    "print('Theoretical variance:', sigma**2)\n"
   ]
  },
  {
   "cell_type": "markdown",
   "metadata": {},
   "source": [
    "## 4. Beta Distribution\n",
    "\n",
    "The Beta distribution is defined on [0,1] and parameterized by $\\alpha$ and $\\beta$.\n"
   ]
  },
  {
   "cell_type": "code",
   "metadata": {},
   "execution_count": null,
   "outputs": [],
   "source": [
    "from talyn.distributions import Beta\n",
    "alpha, beta = 2, 5\n",
    "beta_dist = Beta(alpha, beta)\n",
    "samples = [beta_dist.sample() for _ in range(1000)]\n",
    "plt.hist(samples, bins=30, density=True, alpha=0.7, color='purple')\n",
    "plt.title('Beta(2,5) Samples', fontsize=14)\n",
    "plt.xlabel('Value', fontsize=12)\n",
    "plt.ylabel('Density', fontsize=12)\n",
    "plt.show()\n",
    "print('Empirical mean:', np.mean(samples))\n",
    "print('Theoretical mean:', alpha/(alpha+beta))\n"
   ]
  },
  {
   "cell_type": "markdown",
   "metadata": {},
   "source": [
    "## 5. Exponential Distribution\n",
    "\n",
    "The Exponential distribution models the time between events in a Poisson process.\n"
   ]
  },
  {
   "cell_type": "code",
   "metadata": {},
   "execution_count": null,
   "outputs": [],
   "source": [
    "from talyn.distributions import Exponential\n",
    "lam = 2.0\n",
    "exp_dist = Exponential(lam)\n",
    "samples = [exp_dist.sample() for _ in range(1000)]\n",
    "plt.hist(samples, bins=30, density=True, alpha=0.7, color='red')\n",
    "plt.title('Exponential(λ=2.0) Samples', fontsize=14)\n",
    "plt.xlabel('Value', fontsize=12)\n",
    "plt.ylabel('Density', fontsize=12)\n",
    "plt.show()\n",
    "print('Empirical mean:', np.mean(samples))\n",
    "print('Theoretical mean:', 1/lam)\n"
   ]
  },
  {
   "cell_type": "markdown",
   "metadata": {},
   "source": [
    "## Source Code Cross-Reference\n",
    "\n",
    "Talyn's core sampler logic can be found in the `talyn/distributions/` directory. For example, the Bernoulli sampler is implemented in `bernoulli.py`.\n"
   ]
  },
  {
   "cell_type": "markdown",
   "metadata": {},
   "source": [
    "## Statistical Edge Case Tests\n",
    "\n",
    "Let's test some edge cases, such as $\\sigma=0$ for Normal and $p=1$ for Bernoulli.\n"
   ]
  },
  {
   "cell_type": "code",
   "metadata": {},
   "execution_count": null,
   "outputs": [],
   "source": [
    "# Normal with σ=0 (should always return μ)\n",
    "normal_zero_sigma = Normal(5, 0)\n",
    "samples = [normal_zero_sigma.sample() for _ in range(10)]\n",
    "print('Normal(5,0) samples:', samples)\n",
    "# Bernoulli with p=1 (should always return 1)\n",
    "bernoulli_one = Bernoulli(1.0)\n",
    "samples = [bernoulli_one.sample() for _ in range(10)]\n",
    "print('Bernoulli(1.0) samples:', samples)\n"
   ]
  },
  {
   "cell_type": "markdown",
   "metadata": {},
   "source": [
    "---\n",
    "\n",
    "This notebook introduced Talyn's primitive distributions. Next, we'll explore the mechanics of sampling and random state management.\n"
   ]
  }
 ],
 "metadata": {
  "kernelspec": {
   "display_name": "Python 3",
   "language": "python",
   "name": "python3"
  },
  "language_info": {
   "name": "python",
   "version": "3.8"
  }
 },
 "nbformat": 4,
 "nbformat_minor": 5
}
