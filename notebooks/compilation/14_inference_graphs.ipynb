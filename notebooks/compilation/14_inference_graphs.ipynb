{
 "cells": [
  {
   "cell_type": "markdown",
   "metadata": {},
   "source": [
    "# Inference Graphs in Talyn\n",
    "\n",
    "This notebook explains how Talyn compiles models into optimized inference graphs, visualizes variable elimination order, and compares graph sizes before and after optimization.\n"
   ]
  },
  {
   "cell_type": "markdown",
   "metadata": {},
   "source": [
    "## 1. Convert Model to Inference Graph\n",
    "\n",
    "Suppose we have a simple hierarchical model.\n"
   ]
  },
  {
   "cell_type": "code",
   "metadata": {},
   "execution_count": null,
   "outputs": [],
   "source": [
    "from talyn.ppl.tiny_ppl import Trace\n",
    "from talyn.distributions import Normal\n",
    "trace = Trace()\n",
    "mu = Normal(0, 1).sample(trace=trace)\n",
    "x = Normal(mu, 1).sample(trace=trace)\n",
    "# Inference graph is a DAG of dependencies\n",
    "print('Trace graph:', trace)\n"
   ]
  },
  {
   "cell_type": "markdown",
   "metadata": {},
   "source": [
    "## 2. Visualize Variable Elimination Order\n",
    "\n",
    "Variable elimination is a key step in inference.\n"
   ]
  },
  {
   "cell_type": "code",
   "metadata": {},
   "execution_count": null,
   "outputs": [],
   "source": [
    "import networkx as nx\n",
    "import matplotlib.pyplot as plt\n",
    "G = nx.DiGraph()\n",
    "G.add_edge('mu', 'x')\n",
    "order = ['x', 'mu']\n",
    "pos = nx.spring_layout(G)\n",
    "nx.draw(G, pos, with_labels=True, node_color='lightblue', node_size=1500, font_size=12)\n",
    "for i, var in enumerate(order):\n",
    "    plt.text(pos[var][0], pos[var][1]+0.1, f'Eliminate {var} ({i+1})', fontsize=10, ha='center')\n",
    "plt.title('Variable Elimination Order', fontsize=14)\n",
    "plt.show()\n"
   ]
  },
  {
   "cell_type": "markdown",
   "metadata": {},
   "source": [
    "## 3. Compare Graph Sizes Before and After Optimization\n",
    "\n",
    "Talyn can prune and optimize inference graphs. (For demonstration, we show a simple before/after node count.)\n"
   ]
  },
  {
   "cell_type": "code",
   "metadata": {},
   "execution_count": null,
   "outputs": [],
   "source": [
    "before_nodes = ['mu', 'x', 'unused']\n",
    "after_nodes = ['mu', 'x']\n",
    "print('Nodes before optimization:', before_nodes)\n",
    "print('Nodes after optimization:', after_nodes)\n"
   ]
  },
  {
   "cell_type": "markdown",
   "metadata": {},
   "source": [
    "---\n",
    "\n",
    "This notebook explained inference graph compilation in Talyn. Next, we'll explore reparameterization.\n"
   ]
  }
 ],
 "metadata": {
  "kernelspec": {
   "display_name": "Python 3",
   "language": "python",
   "name": "python3"
  },
  "language_info": {
   "name": "python",
   "version": "3.8"
  }
 },
 "nbformat": 4,
 "nbformat_minor": 5
}
