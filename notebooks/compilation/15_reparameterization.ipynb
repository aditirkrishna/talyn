{
 "cells": [
  {
   "cell_type": "markdown",
   "metadata": {},
   "source": [
    "# Reparameterization in Talyn\n",
    "\n",
    "This notebook demonstrates how to transform non-differentiable samplers into reparameterized versions for gradient-based inference in Talyn.\n"
   ]
  },
  {
   "cell_type": "markdown",
   "metadata": {},
   "source": [
    "## 1. Standard Reparameterization: Normal$(\mu, \sigma)$\n",
    "\n",
    "A Normal random variable can be reparameterized as $x = \mu + \sigma \epsilon$, $\epsilon \sim N(0,1)$.\n"
   ]
  },
  {
   "cell_type": "code",
   "metadata": {},
   "execution_count": null,
   "outputs": [],
   "source": [
    "import numpy as np\n",
    "mu, sigma = 2.0, 0.5\n",
    "eps = np.random.normal(0, 1, 1000)\n",
    "x = mu + sigma * eps\n",
    "import matplotlib.pyplot as plt\n",
    "plt.hist(x, bins=30, density=True, alpha=0.7, color='skyblue')\n",
    "plt.title('Reparameterized Normal(2,0.5)', fontsize=14)\n",
    "plt.xlabel('x', fontsize=12)\n",
    "plt.ylabel('Density', fontsize=12)\n",
    "plt.show()\n"
   ]
  },
  {
   "cell_type": "markdown",
   "metadata": {},
   "source": [
    "## 2. Gumbel-Softmax for Discrete Variables\n",
    "\n",
    "The Gumbel-Softmax trick enables differentiable sampling from categorical distributions.\n"
   ]
  },
  {
   "cell_type": "code",
   "metadata": {},
   "execution_count": null,
   "outputs": [],
   "source": [
    "def gumbel_softmax_sample(logits, tau=1.0):\n",
    "    gumbel = -np.log(-np.log(np.random.uniform(0,1,logits.shape)))\n",
    "    y = (logits + gumbel) / tau\n",
    "    return np.exp(y) / np.sum(np.exp(y))\n",
    "logits = np.array([2.0, 0.5, 1.0])\n",
    "sample = gumbel_softmax_sample(logits, tau=0.5)\n",
    "print('Gumbel-Softmax sample:', sample)\n"
   ]
  },
  {
   "cell_type": "markdown",
   "metadata": {},
   "source": [
    "## 3. Backpropagation vs Score Estimation\n",
    "\n",
    "- **Reparameterization**: Enables backpropagation through samples.\n",
    "- **Score estimation**: Uses likelihood ratios (see previous notebook).\n"
   ]
  },
  {
   "cell_type": "markdown",
   "metadata": {},
   "source": [
    "## 4. Visualize Gradients\n",
    "\n",
    "We can visualize gradients of the reparameterized estimator.\n"
   ]
  },
  {
   "cell_type": "code",
   "metadata": {},
   "execution_count": null,
   "outputs": [],
   "source": [
    "# For demonstration, compute gradient of E[x] w.r.t. mu\n",
    "mu_vals = np.linspace(-2, 2, 50)\n",
    "means = [np.mean(mu + sigma * np.random.normal(0,1,1000)) for mu in mu_vals]\n",
    "plt.plot(mu_vals, means)\n",
    "plt.title('Gradient of E[x] w.r.t. μ', fontsize=14)\n",
    "plt.xlabel('μ', fontsize=12)\n",
    "plt.ylabel('E[x]', fontsize=12)\n",
    "plt.show()\n"
   ]
  },
  {
   "cell_type": "markdown",
   "metadata": {},
   "source": [
    "---\n",
    "\n",
    "This notebook demonstrated reparameterization in Talyn. Next, we'll explore bandit models.\n"
   ]
  }
 ],
 "metadata": {
  "kernelspec": {
   "display_name": "Python 3",
   "language": "python",
   "name": "python3"
  },
  "language_info": {
   "name": "python",
   "version": "3.8"
  }
 },
 "nbformat": 4,
 "nbformat_minor": 5
}
