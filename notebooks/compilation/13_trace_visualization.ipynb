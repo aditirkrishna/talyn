{
 "cells": [
  {
   "cell_type": "markdown",
   "metadata": {},
   "source": [
    "# Trace Visualization in Talyn\n",
    "\n",
    "This notebook demonstrates how to simulate a model, extract the trace object, and visualize the execution trace in Talyn.\n"
   ]
  },
  {
   "cell_type": "markdown",
   "metadata": {},
   "source": [
    "## 1. Simulate Model and Extract Trace Object\n"
   ]
  },
  {
   "cell_type": "code",
   "metadata": {},
   "execution_count": null,
   "outputs": [],
   "source": [
    "from talyn.distributions import Normal\n",
    "from talyn.ppl.tiny_ppl import Trace\n",
    "trace = Trace()\n",
    "mu = Normal(0, 1).sample(trace=trace)\n",
    "x = Normal(mu, 1).sample(trace=trace)\n",
    "print('Trace:', trace)\n"
   ]
  },
  {
   "cell_type": "markdown",
   "metadata": {},
   "source": [
    "## 2. Render Graph with Graphviz\n",
    "\n",
    "We can visualize the trace as a graph.\n"
   ]
  },
  {
   "cell_type": "code",
   "metadata": {},
   "execution_count": null,
   "outputs": [],
   "source": [
    "import graphviz\n",
    "dot = graphviz.Digraph()\n",
    "dot.node('mu', 'μ (latent)')\n",
    "dot.node('x', 'x (observed)')\n",
    "dot.edge('mu', 'x')\n",
    "dot.render('trace_graph', format='png', cleanup=True)\n",
    "from IPython.display import Image\n",
    "Image('trace_graph.png')\n"
   ]
  },
  {
   "cell_type": "markdown",
   "metadata": {},
   "source": [
    "## 3. Annotate Variables: Observed, Latent, Deterministic\n",
    "\n",
    "- **Latent**: Not observed, inferred from data (e.g., μ)\n",
    "- **Observed**: Directly measured (e.g., x)\n",
    "- **Deterministic**: Computed from other variables\n"
   ]
  },
  {
   "cell_type": "markdown",
   "metadata": {},
   "source": [
    "## 4. Trace Pruning and Optimization\n",
    "\n",
    "Talyn can prune unnecessary nodes and optimize traces for inference.\n    (For details, see Talyn's trace optimization modules.)\n"
   ]
  },
  {
   "cell_type": "markdown",
   "metadata": {},
   "source": [
    "---\n",
    "\n",
    "This notebook demonstrated trace visualization in Talyn. Next, we'll explore inference graphs.\n"
   ]
  }
 ],
 "metadata": {
  "kernelspec": {
   "display_name": "Python 3",
   "language": "python",
   "name": "python3"
  },
  "language_info": {
   "name": "python",
   "version": "3.8"
  }
 },
 "nbformat": 4,
 "nbformat_minor": 5
}
