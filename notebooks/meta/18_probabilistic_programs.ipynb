{
 "cells": [
  {
   "cell_type": "markdown",
   "metadata": {},
   "source": [
    "# Probabilistic Programs in Talyn\n",
    "\n",
    "This notebook demonstrates how to write and simulate full programs in Talyn's internal DSL, including recursion, higher-order sampling, and control flow.\n"
   ]
  },
  {
   "cell_type": "markdown",
   "metadata": {},
   "source": [
    "## 1. Recursion and Higher-Order Sampling\n",
    "\n",
    "Talyn's DSL supports recursive and higher-order probabilistic programs.\n    (For demonstration, we use Python to mimic the DSL.)\n"
   ]
  },
  {
   "cell_type": "code",
   "metadata": {},
   "execution_count": null,
   "outputs": [],
   "source": [
    "import numpy as np\n",
    "def branching_process(depth):\n",
    "    if depth == 0:\n",
    "        return 1\n",
    "    n_children = np.random.poisson(2)\n",
    "    return 1 + sum(branching_process(depth-1) for _ in range(n_children))\n",
    "sizes = [branching_process(3) for _ in range(1000)]\n",
    "import matplotlib.pyplot as plt\n",
    "plt.hist(sizes, bins=30, alpha=0.7, color='purple')\n",
    "plt.title('Branching Process Size Distribution', fontsize=14)\n",
    "plt.xlabel('Total Size', fontsize=12)\n",
    "plt.ylabel('Count', fontsize=12)\n",
    "plt.show()\n"
   ]
  },
  {
   "cell_type": "markdown",
   "metadata": {},
   "source": [
    "## 2. Simulate Stochastic Grammars\n",
    "\n",
    "Stochastic grammars can be expressed as probabilistic programs.\n"
   ]
  },
  {
   "cell_type": "code",
   "metadata": {},
   "execution_count": null,
   "outputs": [],
   "source": [
    "def stochastic_grammar(depth):\n",
    "    if depth == 0:\n",
    "        return 'a'\n",
    "    if np.random.rand() < 0.5:\n",
    "        return 'b' + stochastic_grammar(depth-1)\n",
    "    else:\n",
    "        return 'c' + stochastic_grammar(depth-1)\n",
    "samples = [stochastic_grammar(4) for _ in range(10)]\n",
    "print('Sampled strings:', samples)\n"
   ]
  },
  {
   "cell_type": "markdown",
   "metadata": {},
   "source": [
    "## 3. Parse, Compile, and Execute Talyn Scripts\n",
    "\n",
    "Talyn can parse and execute its own DSL scripts. (For demonstration, we use Python code.)\n"
   ]
  },
  {
   "cell_type": "markdown",
   "metadata": {},
   "source": [
    "---\n",
    "\n",
    "This notebook demonstrated probabilistic programs in Talyn. Next, we'll explore model selection.\n"
   ]
  }
 ],
 "metadata": {
  "kernelspec": {
   "display_name": "Python 3",
   "language": "python",
   "name": "python3"
  },
  "language_info": {
   "name": "python",
   "version": "3.8"
  }
 },
 "nbformat": 4,
 "nbformat_minor": 5
}
