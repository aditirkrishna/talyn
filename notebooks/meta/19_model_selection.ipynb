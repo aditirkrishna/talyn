{
 "cells": [
  {
   "cell_type": "markdown",
   "metadata": {},
   "source": [
    "# Model Selection in Talyn\n",
    "\n",
    "This notebook demonstrates how to estimate marginal likelihood and compare models in Talyn, including posterior over models and structure search.\n"
   ]
  },
  {
   "cell_type": "markdown",
   "metadata": {},
   "source": [
    "## 1. Simulate Multiple Candidate Models\n",
    "\n",
    "Suppose we have two models for data $x$:\n    - Model 1: $x \sim N(0,1)$\n    - Model 2: $x \sim N(1,1)$\n"
   ]
  },
  {
   "cell_type": "code",
   "metadata": {},
   "execution_count": null,
   "outputs": [],
   "source": [
    "import numpy as np\n",
    "data = np.random.normal(0.5, 1, 100)\n",
    "log_lik1 = np.sum(-0.5*(data-0)**2 - 0.5*np.log(2*np.pi))\n",
    "log_lik2 = np.sum(-0.5*(data-1)**2 - 0.5*np.log(2*np.pi))\n",
    "print('Log-likelihood Model 1:', log_lik1)\n",
    "print('Log-likelihood Model 2:', log_lik2)\n"
   ]
  },
  {
   "cell_type": "markdown",
   "metadata": {},
   "source": [
    "## 2. Compute Approximate Model Evidence\n",
    "\n",
    "Model evidence (marginal likelihood) can be approximated by integrating over parameters.\n    (For demonstration, we use log-likelihood as a proxy.)\n"
   ]
  },
  {
   "cell_type": "markdown",
   "metadata": {},
   "source": [
    "## 3. Posterior Over Models: $P(M|D)$\n",
    "\n",
    "Assuming equal priors, posterior is proportional to evidence.\n"
   ]
  },
  {
   "cell_type": "code",
   "metadata": {},
   "execution_count": null,
   "outputs": [],
   "source": [
    "evidence = np.exp([log_lik1, log_lik2] - np.max([log_lik1, log_lik2]))\n",
    "posterior = evidence / np.sum(evidence)\n",
    "print('Posterior over models:', posterior)\n"
   ]
  },
  {
   "cell_type": "markdown",
   "metadata": {},
   "source": [
    "## 4. Use for Automatic Structure Search\n",
    "\n",
    "Talyn can use model evidence to search over model structures. (For demonstration, we compare two models.)\n"
   ]
  },
  {
   "cell_type": "markdown",
   "metadata": {},
   "source": [
    "---\n",
    "\n",
    "This notebook demonstrated model selection in Talyn.\n"
   ]
  }
 ],
 "metadata": {
  "kernelspec": {
   "display_name": "Python 3",
   "language": "python",
   "name": "python3"
  },
  "language_info": {
   "name": "python",
   "version": "3.8"
  }
 },
 "nbformat": 4,
 "nbformat_minor": 5
}
